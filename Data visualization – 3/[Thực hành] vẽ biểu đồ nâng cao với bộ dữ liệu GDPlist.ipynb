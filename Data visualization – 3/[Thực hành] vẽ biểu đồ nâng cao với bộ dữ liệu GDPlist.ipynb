{
 "cells": [
  {
   "cell_type": "code",
   "execution_count": null,
   "id": "fa20e8a5",
   "metadata": {},
   "outputs": [],
   "source": [
    "import pandas as pd\n",
    "import seaborn as sns"
   ]
  },
  {
   "cell_type": "code",
   "execution_count": null,
   "id": "6ab59028",
   "metadata": {},
   "outputs": [],
   "source": [
    "df = pd.read_csv(\"GDPlist.csv\", encoding = \"ISO-8859-1\")"
   ]
  },
  {
   "cell_type": "code",
   "execution_count": null,
   "id": "5a2d25cd",
   "metadata": {},
   "outputs": [],
   "source": [
    "df.info()"
   ]
  },
  {
   "cell_type": "code",
   "execution_count": null,
   "id": "ad61baf9",
   "metadata": {},
   "outputs": [],
   "source": [
    "df.describe()"
   ]
  },
  {
   "cell_type": "code",
   "execution_count": null,
   "id": "38a12dee",
   "metadata": {},
   "outputs": [],
   "source": [
    "df.head()"
   ]
  },
  {
   "cell_type": "code",
   "execution_count": null,
   "id": "e53670db",
   "metadata": {},
   "outputs": [],
   "source": [
    "df = df.dropna()"
   ]
  },
  {
   "cell_type": "code",
   "execution_count": null,
   "id": "92bb72cb",
   "metadata": {},
   "outputs": [],
   "source": [
    "# Vẽ biểu đồ phân bố\n",
    "\n",
    "# Biểu đồ phân bố giá trị GDP toàn cầu\n",
    "\n",
    "sns.violinplot(y=df[\"GDP (millions of US$)\"])"
   ]
  },
  {
   "cell_type": "markdown",
   "id": "cfb52c57",
   "metadata": {},
   "source": [
    "Có thể nhận thấy giá trị GDP phân tập trung ở giá trị < 2500000, số lượng các nước có GDP cao hơn ít hơn rất nhiều"
   ]
  },
  {
   "cell_type": "code",
   "execution_count": null,
   "id": "99cb73b4",
   "metadata": {},
   "outputs": [],
   "source": [
    "# Biểu đồ phân bố giá trị GDP châu Á\n",
    "\n",
    "sns.violinplot(y=df[df[\"Continent\"]==\"Asia\"][\"GDP (millions of US$)\"])"
   ]
  },
  {
   "cell_type": "markdown",
   "id": "297b784d",
   "metadata": {},
   "source": [
    "GDP các nước châu Á có vè đồng đều hơn so với trên thế giới"
   ]
  },
  {
   "cell_type": "code",
   "execution_count": null,
   "id": "dc184ae4",
   "metadata": {},
   "outputs": [],
   "source": [
    "# Vẽ biểu đồ boxplot\n",
    "\n",
    "# Biểu đồ box plot nhóm theo châu lục\n",
    "\n",
    "sns.boxplot(x=\"Continent\", y = \"GDP (millions of US$)\", data=df)"
   ]
  },
  {
   "cell_type": "markdown",
   "id": "e9cb9257",
   "metadata": {},
   "source": [
    "Nhận thấy rằng Bắc Mỹ có một quốc gia có GDP rất cao, GDP châu Phi khá thấp, GDP của chây Đại Dương có vẻ đồng đều hơn\n",
    "\n"
   ]
  }
 ],
 "metadata": {
  "kernelspec": {
   "display_name": "Python 3 (ipykernel)",
   "language": "python",
   "name": "python3"
  },
  "language_info": {
   "codemirror_mode": {
    "name": "ipython",
    "version": 3
   },
   "file_extension": ".py",
   "mimetype": "text/x-python",
   "name": "python",
   "nbconvert_exporter": "python",
   "pygments_lexer": "ipython3",
   "version": "3.9.12"
  }
 },
 "nbformat": 4,
 "nbformat_minor": 5
}
