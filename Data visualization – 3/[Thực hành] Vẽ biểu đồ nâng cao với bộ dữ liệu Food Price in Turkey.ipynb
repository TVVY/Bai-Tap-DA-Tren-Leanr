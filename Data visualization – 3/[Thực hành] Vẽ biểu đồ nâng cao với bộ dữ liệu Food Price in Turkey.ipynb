{
 "cells": [
  {
   "cell_type": "code",
   "execution_count": null,
   "id": "422b5de2",
   "metadata": {},
   "outputs": [],
   "source": [
    "import pandas as pd\n",
    "import seaborn as sns"
   ]
  },
  {
   "cell_type": "code",
   "execution_count": null,
   "id": "616c28fb",
   "metadata": {},
   "outputs": [],
   "source": [
    "df = pd.read_csv(\"FoodPrice_in_Turkey.csv\")\n",
    "df.info()"
   ]
  },
  {
   "cell_type": "code",
   "execution_count": null,
   "id": "f8e21d9e",
   "metadata": {},
   "outputs": [],
   "source": [
    "df.describe()"
   ]
  },
  {
   "cell_type": "code",
   "execution_count": null,
   "id": "5935ae1e",
   "metadata": {},
   "outputs": [],
   "source": [
    "df.head()"
   ]
  },
  {
   "cell_type": "code",
   "execution_count": null,
   "id": "05104ae6",
   "metadata": {},
   "outputs": [],
   "source": [
    "df = df.dropna()"
   ]
  },
  {
   "cell_type": "markdown",
   "id": "94db7117",
   "metadata": {},
   "source": [
    "Vẽ biểu đồ xu hướng\n",
    "\n",
    "Lọc dữ liệu sản phẩm gạo, vẽ biểu đồ xu hướng qua các năm"
   ]
  },
  {
   "cell_type": "code",
   "execution_count": null,
   "id": "2253546f",
   "metadata": {},
   "outputs": [],
   "source": [
    "rice_df = df[df[\"ProductId\"] == 52]\n",
    "sns.lmplot(x=\"Year\", y=\"Price\",data = rice_df)"
   ]
  },
  {
   "cell_type": "code",
   "execution_count": null,
   "id": "a4e61f48",
   "metadata": {},
   "outputs": [],
   "source": [
    "# Có thể nhận thấy rằng giá gạo tăng dần qua các năm\n",
    "\n",
    "trans_df = df[(df[\"ProductName\"] == \"Transport (public) - Retail\") | (df[\"ProductName\"] == \"Rice - Retail\")]\n",
    "sns.lmplot(x=\"Year\", y=\"Price\", hue=\"ProductName\", data = trans_df)"
   ]
  },
  {
   "cell_type": "markdown",
   "id": "6cac0e82",
   "metadata": {},
   "source": [
    "có thể thấy rằng dù chi phí vận chuyển có xu hướng giảm, tuy nhiên giá gạo vẫn tăng khá mạnh, chứng tỏ không có sự liên quan giữa 2 thuộc tính này"
   ]
  },
  {
   "cell_type": "code",
   "execution_count": null,
   "id": "f319dbdc",
   "metadata": {},
   "outputs": [],
   "source": [
    "# Vẽ biểu đồ phân bố\n",
    "\n",
    "# Biểu đồ phân bố cho giá sản phẩm\n",
    "\n",
    "sns.violinplot(y = \"Price\", data=df)"
   ]
  },
  {
   "cell_type": "markdown",
   "id": "e82e9dbf",
   "metadata": {},
   "source": [
    "\n",
    "Có thể nhận tháy dữ liệu phân bố không được đều, nhiều sản phẩm giá thấp và ít sản phẩm giá cao."
   ]
  },
  {
   "cell_type": "code",
   "execution_count": null,
   "id": "51dcf4d3",
   "metadata": {},
   "outputs": [],
   "source": [
    "# Biểu đồ phân bố cho năm của sản phẩm\n",
    "\n",
    "sns.violinplot(y = \"Year\", data=df)"
   ]
  },
  {
   "cell_type": "markdown",
   "id": "19ef795b",
   "metadata": {},
   "source": [
    "Có thể thấy rằng sản phẩm chủ yếu thuộc những năm gần đây, những năm càng xa thì số lượng càng ít"
   ]
  },
  {
   "cell_type": "code",
   "execution_count": null,
   "id": "5e3e1926",
   "metadata": {},
   "outputs": [],
   "source": [
    "# Vẽ biểu đồ tần số\n",
    "\n",
    "# vẽ biểu đồ tần số cho các sản phẩm theo năm\n",
    "sns.countplot(x = \"Year\", data = df)"
   ]
  },
  {
   "cell_type": "markdown",
   "id": "a7f4dfef",
   "metadata": {},
   "source": [
    "Tương tự như đã nhận xét ở phần trước, những năm càng xa thì càng ít sản phẩm"
   ]
  },
  {
   "cell_type": "code",
   "execution_count": null,
   "id": "b4b22fd4",
   "metadata": {},
   "outputs": [],
   "source": [
    "# Thống kê sản phẩm theo địa điểm\n",
    "\n",
    "sns.countplot(x = \"Place\", data = df)"
   ]
  },
  {
   "cell_type": "code",
   "execution_count": null,
   "id": "8dcde182",
   "metadata": {},
   "outputs": [],
   "source": [
    "# Hiển thị quan hệ giữa số lượng theo năm được nhím theo địa điểm\n",
    "\n",
    "sns.countplot(x = \"Year\", hue = \"Place\", data = df)"
   ]
  },
  {
   "cell_type": "markdown",
   "id": "84202292",
   "metadata": {},
   "source": [
    "Có thể thấy rằng các năm 2013-2016 chỉ có dữ liệu cho sản phẩm ở National Avarage"
   ]
  },
  {
   "cell_type": "code",
   "execution_count": null,
   "id": "29e038a8",
   "metadata": {},
   "outputs": [],
   "source": [
    "# Vẽ biểu đồ box plot\n",
    "\n",
    "# Vẽ biểu đồ box plot cho thuộc tính giá sản phẩm\n",
    "\n",
    "sns.boxplot(x=df[\"Price\"])"
   ]
  },
  {
   "cell_type": "markdown",
   "id": "b7237ecb",
   "metadata": {},
   "source": [
    "Tương tự như trên đã nhận xét, giá sản phẩm phân bố rất không đồng đều, tập trung ở giá thấp"
   ]
  },
  {
   "cell_type": "code",
   "execution_count": null,
   "id": "547488ce",
   "metadata": {},
   "outputs": [],
   "source": [
    "# Vẽ biểu đồ box plot giá sản phẩm phân bố theo năm\n",
    "\n",
    "sns.boxplot(x = \"Year\", y = \"Price\", data=df)"
   ]
  }
 ],
 "metadata": {
  "kernelspec": {
   "display_name": "Python 3 (ipykernel)",
   "language": "python",
   "name": "python3"
  },
  "language_info": {
   "codemirror_mode": {
    "name": "ipython",
    "version": 3
   },
   "file_extension": ".py",
   "mimetype": "text/x-python",
   "name": "python",
   "nbconvert_exporter": "python",
   "pygments_lexer": "ipython3",
   "version": "3.9.12"
  }
 },
 "nbformat": 4,
 "nbformat_minor": 5
}
