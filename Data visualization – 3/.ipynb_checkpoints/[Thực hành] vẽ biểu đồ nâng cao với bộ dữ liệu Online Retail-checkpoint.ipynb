{
 "cells": [
  {
   "cell_type": "code",
   "execution_count": 1,
   "id": "f5e2e82c",
   "metadata": {},
   "outputs": [],
   "source": [
    "import pandas as pd\n",
    "import seaborn as sns"
   ]
  },
  {
   "cell_type": "code",
   "execution_count": null,
   "id": "4f6ed8bb",
   "metadata": {},
   "outputs": [],
   "source": [
    "df = pd.read_csv(\"OnlineRetail.csv\", encoding = \"ISO-8859-1\")\n",
    "df.info()"
   ]
  },
  {
   "cell_type": "code",
   "execution_count": null,
   "id": "1142e1f5",
   "metadata": {},
   "outputs": [],
   "source": [
    "df.describe()"
   ]
  },
  {
   "cell_type": "code",
   "execution_count": null,
   "id": "c4c8cac5",
   "metadata": {},
   "outputs": [],
   "source": [
    "df.head()"
   ]
  },
  {
   "cell_type": "code",
   "execution_count": null,
   "id": "6758c0ea",
   "metadata": {},
   "outputs": [],
   "source": [
    "df = df.dropna()"
   ]
  },
  {
   "cell_type": "code",
   "execution_count": null,
   "id": "9c5d5d51",
   "metadata": {},
   "outputs": [],
   "source": [
    "# Tính giá của mỗi mã sản phẩm ở các đơn hàng\n",
    "\n",
    "df[\"Price\"] = df[\"Quantity\"] * df[\"UnitPrice\"]"
   ]
  },
  {
   "cell_type": "code",
   "execution_count": null,
   "id": "ac6a85db",
   "metadata": {},
   "outputs": [],
   "source": [
    "df.head()"
   ]
  },
  {
   "cell_type": "code",
   "execution_count": null,
   "id": "bf04a323",
   "metadata": {},
   "outputs": [],
   "source": [
    "# Vẽ biểu đồ phân bố\n",
    "\n",
    "# Biểu đồ phân bố cho giá sản phẩm\n",
    "\n",
    "sns.violinplot(y = \"UnitPrice\", data=df)"
   ]
  },
  {
   "cell_type": "markdown",
   "id": "9e355dab",
   "metadata": {},
   "source": [
    "Có thể nhận thấy dữ liệu phân bố không được đều, nhiều sản phẩm giá thấp và ít sản phẩm giá cao."
   ]
  },
  {
   "cell_type": "code",
   "execution_count": null,
   "id": "d4cb8f79",
   "metadata": {},
   "outputs": [],
   "source": [
    "# Biểu đồ phân bố cho tổng giá mỗi sản phẩm ở các đơn\n",
    "\n",
    "sns.violinplot(y = \"Price\", data=df)"
   ]
  },
  {
   "cell_type": "code",
   "execution_count": null,
   "id": "d8da5732",
   "metadata": {},
   "outputs": [],
   "source": [
    "# Tính số lượng sản phẩm ở mỗi đơn hàng\n",
    "\n",
    "df2 = df.groupby(['InvoiceNo'])['Quantity'].sum().reset_index()"
   ]
  },
  {
   "cell_type": "code",
   "execution_count": null,
   "id": "1f6dc785",
   "metadata": {},
   "outputs": [],
   "source": [
    "df2.head()"
   ]
  },
  {
   "cell_type": "code",
   "execution_count": null,
   "id": "faf6fa46",
   "metadata": {},
   "outputs": [],
   "source": [
    "# Biểu đồ phân bố số lượng sản phẩm trên mỗi đơn\n",
    "\n",
    "sns.violinplot(y=\"Quantity\", data=df2)"
   ]
  },
  {
   "cell_type": "code",
   "execution_count": null,
   "id": "c0baeae5",
   "metadata": {},
   "outputs": [],
   "source": [
    "# Vẽ biểu đồ tần số\n",
    "df3 = df.groupby(['Country'])['Quantity'].sum().reset_index()"
   ]
  },
  {
   "cell_type": "code",
   "execution_count": null,
   "id": "385cba7c",
   "metadata": {},
   "outputs": [],
   "source": [
    "df3.head()"
   ]
  },
  {
   "cell_type": "code",
   "execution_count": null,
   "id": "27b0751c",
   "metadata": {},
   "outputs": [],
   "source": [
    "# Loại bỏ dữ liệu về hóa đơn trùng lặp\n",
    "\n",
    "df1 = df.drop_duplicates(subset = 'InvoiceNo')"
   ]
  },
  {
   "cell_type": "code",
   "execution_count": null,
   "id": "d0d69d3a",
   "metadata": {},
   "outputs": [],
   "source": [
    "# Vẽ biểu đồ tần số cho số hóa đơn theo quốc gia\n",
    "sns.countplot(x = \"Country\", data = df1)"
   ]
  },
  {
   "cell_type": "markdown",
   "id": "cb5f3c7e",
   "metadata": {},
   "source": [
    "Có thể nhận thấy rằng số sản phẩm và số hóa đơn được mua rất nhiều ở Anh, áp đảo so với phần còn lại"
   ]
  },
  {
   "cell_type": "code",
   "execution_count": null,
   "id": "5ff41d83",
   "metadata": {},
   "outputs": [],
   "source": [
    "# Vẽ biểu đồ box plot\n",
    "\n",
    "# Vẽ biểu đồ box plot cho thuộc tính giá sản phẩm\n",
    "\n",
    "sns.boxplot(x=df[\"UnitPrice\"])"
   ]
  },
  {
   "cell_type": "markdown",
   "id": "ead7a8c5",
   "metadata": {},
   "source": [
    "Tương tự như trên đã nhận xét, giá sản phẩm phân bố rất không đồng đều, tập trung ở giá thấp"
   ]
  },
  {
   "cell_type": "code",
   "execution_count": null,
   "id": "0bcacb67",
   "metadata": {},
   "outputs": [],
   "source": [
    "# Biểu đồ box plot cho số lượng sản phẩm mỗi đơn\n",
    "\n",
    "sns.boxplot(x=df2[\"Quantity\"])"
   ]
  },
  {
   "cell_type": "code",
   "execution_count": null,
   "id": "1f426bd4",
   "metadata": {},
   "outputs": [],
   "source": []
  }
 ],
 "metadata": {
  "kernelspec": {
   "display_name": "Python 3 (ipykernel)",
   "language": "python",
   "name": "python3"
  },
  "language_info": {
   "codemirror_mode": {
    "name": "ipython",
    "version": 3
   },
   "file_extension": ".py",
   "mimetype": "text/x-python",
   "name": "python",
   "nbconvert_exporter": "python",
   "pygments_lexer": "ipython3",
   "version": "3.9.12"
  }
 },
 "nbformat": 4,
 "nbformat_minor": 5
}
