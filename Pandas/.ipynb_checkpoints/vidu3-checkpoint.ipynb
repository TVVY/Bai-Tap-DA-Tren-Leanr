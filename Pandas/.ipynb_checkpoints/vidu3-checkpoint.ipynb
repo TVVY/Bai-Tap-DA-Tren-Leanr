{
 "cells": [
  {
   "cell_type": "markdown",
   "id": "b39ed4dd-524c-415f-a28b-40d7d1c495b8",
   "metadata": {
    "tags": []
   },
   "source": [
    "## Khai báo thư viện"
   ]
  },
  {
   "cell_type": "code",
   "execution_count": 1,
   "id": "fd70aad3-9518-45c9-86e1-82fc6a528a8c",
   "metadata": {
    "tags": []
   },
   "outputs": [
    {
     "name": "stdout",
     "output_type": "stream",
     "text": [
      "Khai bao thanh cong\n"
     ]
    }
   ],
   "source": [
    "import pandas as pd\n",
    "import numpy as np\n",
    "print('Khai bao thanh cong')"
   ]
  },
  {
   "cell_type": "markdown",
   "id": "53c3d05e-3dca-4e59-8a60-7c70ace9f6cb",
   "metadata": {
    "tags": []
   },
   "source": [
    "## Nhập dữ liệu"
   ]
  },
  {
   "cell_type": "code",
   "execution_count": 2,
   "id": "06602f68-d962-49eb-a452-2efddf5ef489",
   "metadata": {
    "tags": []
   },
   "outputs": [
    {
     "ename": "FileNotFoundError",
     "evalue": "[Errno 2] No such file or directory: 'FoodPrice_in_Turkey.csv'",
     "output_type": "error",
     "traceback": [
      "\u001b[1;31m---------------------------------------------------------------------------\u001b[0m",
      "\u001b[1;31mFileNotFoundError\u001b[0m                         Traceback (most recent call last)",
      "Input \u001b[1;32mIn [2]\u001b[0m, in \u001b[0;36m<cell line: 1>\u001b[1;34m()\u001b[0m\n\u001b[1;32m----> 1\u001b[0m data \u001b[38;5;241m=\u001b[39m \u001b[43mpd\u001b[49m\u001b[38;5;241;43m.\u001b[39;49m\u001b[43mread_csv\u001b[49m\u001b[43m(\u001b[49m\u001b[38;5;124;43m'\u001b[39;49m\u001b[38;5;124;43mFoodPrice_in_Turkey.csv\u001b[39;49m\u001b[38;5;124;43m'\u001b[39;49m\u001b[43m,\u001b[49m\u001b[43m \u001b[49m\u001b[43mheader\u001b[49m\u001b[38;5;241;43m=\u001b[39;49m\u001b[38;5;241;43m0\u001b[39;49m\u001b[43m,\u001b[49m\u001b[43m \u001b[49m\u001b[43mencoding\u001b[49m\u001b[43m \u001b[49m\u001b[38;5;241;43m=\u001b[39;49m\u001b[43m \u001b[49m\u001b[38;5;124;43m\"\u001b[39;49m\u001b[38;5;124;43mISO-8859-1\u001b[39;49m\u001b[38;5;124;43m\"\u001b[39;49m\u001b[43m)\u001b[49m\n\u001b[0;32m      2\u001b[0m \u001b[38;5;28mprint\u001b[39m(\u001b[38;5;124m'\u001b[39m\u001b[38;5;124m*\u001b[39m\u001b[38;5;124m'\u001b[39m\u001b[38;5;241m*\u001b[39m\u001b[38;5;241m20\u001b[39m, \u001b[38;5;124m\"\u001b[39m\u001b[38;5;124mNhập dữ liệu thành công\u001b[39m\u001b[38;5;124m\"\u001b[39m, \u001b[38;5;124m'\u001b[39m\u001b[38;5;124m*\u001b[39m\u001b[38;5;124m'\u001b[39m\u001b[38;5;241m*\u001b[39m\u001b[38;5;241m20\u001b[39m)\n\u001b[0;32m      3\u001b[0m display(data)\n",
      "File \u001b[1;32mD:\\ana\\lib\\site-packages\\pandas\\util\\_decorators.py:311\u001b[0m, in \u001b[0;36mdeprecate_nonkeyword_arguments.<locals>.decorate.<locals>.wrapper\u001b[1;34m(*args, **kwargs)\u001b[0m\n\u001b[0;32m    305\u001b[0m \u001b[38;5;28;01mif\u001b[39;00m \u001b[38;5;28mlen\u001b[39m(args) \u001b[38;5;241m>\u001b[39m num_allow_args:\n\u001b[0;32m    306\u001b[0m     warnings\u001b[38;5;241m.\u001b[39mwarn(\n\u001b[0;32m    307\u001b[0m         msg\u001b[38;5;241m.\u001b[39mformat(arguments\u001b[38;5;241m=\u001b[39marguments),\n\u001b[0;32m    308\u001b[0m         \u001b[38;5;167;01mFutureWarning\u001b[39;00m,\n\u001b[0;32m    309\u001b[0m         stacklevel\u001b[38;5;241m=\u001b[39mstacklevel,\n\u001b[0;32m    310\u001b[0m     )\n\u001b[1;32m--> 311\u001b[0m \u001b[38;5;28;01mreturn\u001b[39;00m func(\u001b[38;5;241m*\u001b[39margs, \u001b[38;5;241m*\u001b[39m\u001b[38;5;241m*\u001b[39mkwargs)\n",
      "File \u001b[1;32mD:\\ana\\lib\\site-packages\\pandas\\io\\parsers\\readers.py:680\u001b[0m, in \u001b[0;36mread_csv\u001b[1;34m(filepath_or_buffer, sep, delimiter, header, names, index_col, usecols, squeeze, prefix, mangle_dupe_cols, dtype, engine, converters, true_values, false_values, skipinitialspace, skiprows, skipfooter, nrows, na_values, keep_default_na, na_filter, verbose, skip_blank_lines, parse_dates, infer_datetime_format, keep_date_col, date_parser, dayfirst, cache_dates, iterator, chunksize, compression, thousands, decimal, lineterminator, quotechar, quoting, doublequote, escapechar, comment, encoding, encoding_errors, dialect, error_bad_lines, warn_bad_lines, on_bad_lines, delim_whitespace, low_memory, memory_map, float_precision, storage_options)\u001b[0m\n\u001b[0;32m    665\u001b[0m kwds_defaults \u001b[38;5;241m=\u001b[39m _refine_defaults_read(\n\u001b[0;32m    666\u001b[0m     dialect,\n\u001b[0;32m    667\u001b[0m     delimiter,\n\u001b[1;32m   (...)\u001b[0m\n\u001b[0;32m    676\u001b[0m     defaults\u001b[38;5;241m=\u001b[39m{\u001b[38;5;124m\"\u001b[39m\u001b[38;5;124mdelimiter\u001b[39m\u001b[38;5;124m\"\u001b[39m: \u001b[38;5;124m\"\u001b[39m\u001b[38;5;124m,\u001b[39m\u001b[38;5;124m\"\u001b[39m},\n\u001b[0;32m    677\u001b[0m )\n\u001b[0;32m    678\u001b[0m kwds\u001b[38;5;241m.\u001b[39mupdate(kwds_defaults)\n\u001b[1;32m--> 680\u001b[0m \u001b[38;5;28;01mreturn\u001b[39;00m \u001b[43m_read\u001b[49m\u001b[43m(\u001b[49m\u001b[43mfilepath_or_buffer\u001b[49m\u001b[43m,\u001b[49m\u001b[43m \u001b[49m\u001b[43mkwds\u001b[49m\u001b[43m)\u001b[49m\n",
      "File \u001b[1;32mD:\\ana\\lib\\site-packages\\pandas\\io\\parsers\\readers.py:575\u001b[0m, in \u001b[0;36m_read\u001b[1;34m(filepath_or_buffer, kwds)\u001b[0m\n\u001b[0;32m    572\u001b[0m _validate_names(kwds\u001b[38;5;241m.\u001b[39mget(\u001b[38;5;124m\"\u001b[39m\u001b[38;5;124mnames\u001b[39m\u001b[38;5;124m\"\u001b[39m, \u001b[38;5;28;01mNone\u001b[39;00m))\n\u001b[0;32m    574\u001b[0m \u001b[38;5;66;03m# Create the parser.\u001b[39;00m\n\u001b[1;32m--> 575\u001b[0m parser \u001b[38;5;241m=\u001b[39m TextFileReader(filepath_or_buffer, \u001b[38;5;241m*\u001b[39m\u001b[38;5;241m*\u001b[39mkwds)\n\u001b[0;32m    577\u001b[0m \u001b[38;5;28;01mif\u001b[39;00m chunksize \u001b[38;5;129;01mor\u001b[39;00m iterator:\n\u001b[0;32m    578\u001b[0m     \u001b[38;5;28;01mreturn\u001b[39;00m parser\n",
      "File \u001b[1;32mD:\\ana\\lib\\site-packages\\pandas\\io\\parsers\\readers.py:933\u001b[0m, in \u001b[0;36mTextFileReader.__init__\u001b[1;34m(self, f, engine, **kwds)\u001b[0m\n\u001b[0;32m    930\u001b[0m     \u001b[38;5;28mself\u001b[39m\u001b[38;5;241m.\u001b[39moptions[\u001b[38;5;124m\"\u001b[39m\u001b[38;5;124mhas_index_names\u001b[39m\u001b[38;5;124m\"\u001b[39m] \u001b[38;5;241m=\u001b[39m kwds[\u001b[38;5;124m\"\u001b[39m\u001b[38;5;124mhas_index_names\u001b[39m\u001b[38;5;124m\"\u001b[39m]\n\u001b[0;32m    932\u001b[0m \u001b[38;5;28mself\u001b[39m\u001b[38;5;241m.\u001b[39mhandles: IOHandles \u001b[38;5;241m|\u001b[39m \u001b[38;5;28;01mNone\u001b[39;00m \u001b[38;5;241m=\u001b[39m \u001b[38;5;28;01mNone\u001b[39;00m\n\u001b[1;32m--> 933\u001b[0m \u001b[38;5;28mself\u001b[39m\u001b[38;5;241m.\u001b[39m_engine \u001b[38;5;241m=\u001b[39m \u001b[38;5;28;43mself\u001b[39;49m\u001b[38;5;241;43m.\u001b[39;49m\u001b[43m_make_engine\u001b[49m\u001b[43m(\u001b[49m\u001b[43mf\u001b[49m\u001b[43m,\u001b[49m\u001b[43m \u001b[49m\u001b[38;5;28;43mself\u001b[39;49m\u001b[38;5;241;43m.\u001b[39;49m\u001b[43mengine\u001b[49m\u001b[43m)\u001b[49m\n",
      "File \u001b[1;32mD:\\ana\\lib\\site-packages\\pandas\\io\\parsers\\readers.py:1217\u001b[0m, in \u001b[0;36mTextFileReader._make_engine\u001b[1;34m(self, f, engine)\u001b[0m\n\u001b[0;32m   1213\u001b[0m     mode \u001b[38;5;241m=\u001b[39m \u001b[38;5;124m\"\u001b[39m\u001b[38;5;124mrb\u001b[39m\u001b[38;5;124m\"\u001b[39m\n\u001b[0;32m   1214\u001b[0m \u001b[38;5;66;03m# error: No overload variant of \"get_handle\" matches argument types\u001b[39;00m\n\u001b[0;32m   1215\u001b[0m \u001b[38;5;66;03m# \"Union[str, PathLike[str], ReadCsvBuffer[bytes], ReadCsvBuffer[str]]\"\u001b[39;00m\n\u001b[0;32m   1216\u001b[0m \u001b[38;5;66;03m# , \"str\", \"bool\", \"Any\", \"Any\", \"Any\", \"Any\", \"Any\"\u001b[39;00m\n\u001b[1;32m-> 1217\u001b[0m \u001b[38;5;28mself\u001b[39m\u001b[38;5;241m.\u001b[39mhandles \u001b[38;5;241m=\u001b[39m \u001b[43mget_handle\u001b[49m\u001b[43m(\u001b[49m\u001b[43m  \u001b[49m\u001b[38;5;66;43;03m# type: ignore[call-overload]\u001b[39;49;00m\n\u001b[0;32m   1218\u001b[0m \u001b[43m    \u001b[49m\u001b[43mf\u001b[49m\u001b[43m,\u001b[49m\n\u001b[0;32m   1219\u001b[0m \u001b[43m    \u001b[49m\u001b[43mmode\u001b[49m\u001b[43m,\u001b[49m\n\u001b[0;32m   1220\u001b[0m \u001b[43m    \u001b[49m\u001b[43mencoding\u001b[49m\u001b[38;5;241;43m=\u001b[39;49m\u001b[38;5;28;43mself\u001b[39;49m\u001b[38;5;241;43m.\u001b[39;49m\u001b[43moptions\u001b[49m\u001b[38;5;241;43m.\u001b[39;49m\u001b[43mget\u001b[49m\u001b[43m(\u001b[49m\u001b[38;5;124;43m\"\u001b[39;49m\u001b[38;5;124;43mencoding\u001b[39;49m\u001b[38;5;124;43m\"\u001b[39;49m\u001b[43m,\u001b[49m\u001b[43m \u001b[49m\u001b[38;5;28;43;01mNone\u001b[39;49;00m\u001b[43m)\u001b[49m\u001b[43m,\u001b[49m\n\u001b[0;32m   1221\u001b[0m \u001b[43m    \u001b[49m\u001b[43mcompression\u001b[49m\u001b[38;5;241;43m=\u001b[39;49m\u001b[38;5;28;43mself\u001b[39;49m\u001b[38;5;241;43m.\u001b[39;49m\u001b[43moptions\u001b[49m\u001b[38;5;241;43m.\u001b[39;49m\u001b[43mget\u001b[49m\u001b[43m(\u001b[49m\u001b[38;5;124;43m\"\u001b[39;49m\u001b[38;5;124;43mcompression\u001b[39;49m\u001b[38;5;124;43m\"\u001b[39;49m\u001b[43m,\u001b[49m\u001b[43m \u001b[49m\u001b[38;5;28;43;01mNone\u001b[39;49;00m\u001b[43m)\u001b[49m\u001b[43m,\u001b[49m\n\u001b[0;32m   1222\u001b[0m \u001b[43m    \u001b[49m\u001b[43mmemory_map\u001b[49m\u001b[38;5;241;43m=\u001b[39;49m\u001b[38;5;28;43mself\u001b[39;49m\u001b[38;5;241;43m.\u001b[39;49m\u001b[43moptions\u001b[49m\u001b[38;5;241;43m.\u001b[39;49m\u001b[43mget\u001b[49m\u001b[43m(\u001b[49m\u001b[38;5;124;43m\"\u001b[39;49m\u001b[38;5;124;43mmemory_map\u001b[39;49m\u001b[38;5;124;43m\"\u001b[39;49m\u001b[43m,\u001b[49m\u001b[43m \u001b[49m\u001b[38;5;28;43;01mFalse\u001b[39;49;00m\u001b[43m)\u001b[49m\u001b[43m,\u001b[49m\n\u001b[0;32m   1223\u001b[0m \u001b[43m    \u001b[49m\u001b[43mis_text\u001b[49m\u001b[38;5;241;43m=\u001b[39;49m\u001b[43mis_text\u001b[49m\u001b[43m,\u001b[49m\n\u001b[0;32m   1224\u001b[0m \u001b[43m    \u001b[49m\u001b[43merrors\u001b[49m\u001b[38;5;241;43m=\u001b[39;49m\u001b[38;5;28;43mself\u001b[39;49m\u001b[38;5;241;43m.\u001b[39;49m\u001b[43moptions\u001b[49m\u001b[38;5;241;43m.\u001b[39;49m\u001b[43mget\u001b[49m\u001b[43m(\u001b[49m\u001b[38;5;124;43m\"\u001b[39;49m\u001b[38;5;124;43mencoding_errors\u001b[39;49m\u001b[38;5;124;43m\"\u001b[39;49m\u001b[43m,\u001b[49m\u001b[43m \u001b[49m\u001b[38;5;124;43m\"\u001b[39;49m\u001b[38;5;124;43mstrict\u001b[39;49m\u001b[38;5;124;43m\"\u001b[39;49m\u001b[43m)\u001b[49m\u001b[43m,\u001b[49m\n\u001b[0;32m   1225\u001b[0m \u001b[43m    \u001b[49m\u001b[43mstorage_options\u001b[49m\u001b[38;5;241;43m=\u001b[39;49m\u001b[38;5;28;43mself\u001b[39;49m\u001b[38;5;241;43m.\u001b[39;49m\u001b[43moptions\u001b[49m\u001b[38;5;241;43m.\u001b[39;49m\u001b[43mget\u001b[49m\u001b[43m(\u001b[49m\u001b[38;5;124;43m\"\u001b[39;49m\u001b[38;5;124;43mstorage_options\u001b[39;49m\u001b[38;5;124;43m\"\u001b[39;49m\u001b[43m,\u001b[49m\u001b[43m \u001b[49m\u001b[38;5;28;43;01mNone\u001b[39;49;00m\u001b[43m)\u001b[49m\u001b[43m,\u001b[49m\n\u001b[0;32m   1226\u001b[0m \u001b[43m\u001b[49m\u001b[43m)\u001b[49m\n\u001b[0;32m   1227\u001b[0m \u001b[38;5;28;01massert\u001b[39;00m \u001b[38;5;28mself\u001b[39m\u001b[38;5;241m.\u001b[39mhandles \u001b[38;5;129;01mis\u001b[39;00m \u001b[38;5;129;01mnot\u001b[39;00m \u001b[38;5;28;01mNone\u001b[39;00m\n\u001b[0;32m   1228\u001b[0m f \u001b[38;5;241m=\u001b[39m \u001b[38;5;28mself\u001b[39m\u001b[38;5;241m.\u001b[39mhandles\u001b[38;5;241m.\u001b[39mhandle\n",
      "File \u001b[1;32mD:\\ana\\lib\\site-packages\\pandas\\io\\common.py:789\u001b[0m, in \u001b[0;36mget_handle\u001b[1;34m(path_or_buf, mode, encoding, compression, memory_map, is_text, errors, storage_options)\u001b[0m\n\u001b[0;32m    784\u001b[0m \u001b[38;5;28;01melif\u001b[39;00m \u001b[38;5;28misinstance\u001b[39m(handle, \u001b[38;5;28mstr\u001b[39m):\n\u001b[0;32m    785\u001b[0m     \u001b[38;5;66;03m# Check whether the filename is to be opened in binary mode.\u001b[39;00m\n\u001b[0;32m    786\u001b[0m     \u001b[38;5;66;03m# Binary mode does not support 'encoding' and 'newline'.\u001b[39;00m\n\u001b[0;32m    787\u001b[0m     \u001b[38;5;28;01mif\u001b[39;00m ioargs\u001b[38;5;241m.\u001b[39mencoding \u001b[38;5;129;01mand\u001b[39;00m \u001b[38;5;124m\"\u001b[39m\u001b[38;5;124mb\u001b[39m\u001b[38;5;124m\"\u001b[39m \u001b[38;5;129;01mnot\u001b[39;00m \u001b[38;5;129;01min\u001b[39;00m ioargs\u001b[38;5;241m.\u001b[39mmode:\n\u001b[0;32m    788\u001b[0m         \u001b[38;5;66;03m# Encoding\u001b[39;00m\n\u001b[1;32m--> 789\u001b[0m         handle \u001b[38;5;241m=\u001b[39m \u001b[38;5;28;43mopen\u001b[39;49m\u001b[43m(\u001b[49m\n\u001b[0;32m    790\u001b[0m \u001b[43m            \u001b[49m\u001b[43mhandle\u001b[49m\u001b[43m,\u001b[49m\n\u001b[0;32m    791\u001b[0m \u001b[43m            \u001b[49m\u001b[43mioargs\u001b[49m\u001b[38;5;241;43m.\u001b[39;49m\u001b[43mmode\u001b[49m\u001b[43m,\u001b[49m\n\u001b[0;32m    792\u001b[0m \u001b[43m            \u001b[49m\u001b[43mencoding\u001b[49m\u001b[38;5;241;43m=\u001b[39;49m\u001b[43mioargs\u001b[49m\u001b[38;5;241;43m.\u001b[39;49m\u001b[43mencoding\u001b[49m\u001b[43m,\u001b[49m\n\u001b[0;32m    793\u001b[0m \u001b[43m            \u001b[49m\u001b[43merrors\u001b[49m\u001b[38;5;241;43m=\u001b[39;49m\u001b[43merrors\u001b[49m\u001b[43m,\u001b[49m\n\u001b[0;32m    794\u001b[0m \u001b[43m            \u001b[49m\u001b[43mnewline\u001b[49m\u001b[38;5;241;43m=\u001b[39;49m\u001b[38;5;124;43m\"\u001b[39;49m\u001b[38;5;124;43m\"\u001b[39;49m\u001b[43m,\u001b[49m\n\u001b[0;32m    795\u001b[0m \u001b[43m        \u001b[49m\u001b[43m)\u001b[49m\n\u001b[0;32m    796\u001b[0m     \u001b[38;5;28;01melse\u001b[39;00m:\n\u001b[0;32m    797\u001b[0m         \u001b[38;5;66;03m# Binary mode\u001b[39;00m\n\u001b[0;32m    798\u001b[0m         handle \u001b[38;5;241m=\u001b[39m \u001b[38;5;28mopen\u001b[39m(handle, ioargs\u001b[38;5;241m.\u001b[39mmode)\n",
      "\u001b[1;31mFileNotFoundError\u001b[0m: [Errno 2] No such file or directory: 'FoodPrice_in_Turkey.csv'"
     ]
    }
   ],
   "source": [
    "data = pd.read_csv('C:/Users/Pyter/DA/BaiTap/FoodPrice_in_Turkey.csv', header=0, encoding = \"ISO-8859-1\")\n",
    "print('*'*20, \"Nhập dữ liệu thành công\", '*'*20)\n",
    "display(data)"
   ]
  },
  {
   "cell_type": "markdown",
   "id": "afa19750-650a-42ac-aabe-802e4f6eb9bf",
   "metadata": {
    "jp-MarkdownHeadingCollapsed": true,
    "tags": []
   },
   "source": [
    "## 1. Thao tác với cột"
   ]
  },
  {
   "cell_type": "markdown",
   "id": "53877179-34be-46b7-b6a7-d5c706433cd0",
   "metadata": {},
   "source": [
    "## 2. Thao tác với dòng"
   ]
  },
  {
   "cell_type": "markdown",
   "id": "4a92469d-005e-4dd3-8368-c0c192c330f1",
   "metadata": {
    "tags": []
   },
   "source": [
    "## 3. Thao tác với 1 ô (cell)"
   ]
  },
  {
   "cell_type": "markdown",
   "id": "87729576-41ee-4c60-b7ec-38b2130a8e0d",
   "metadata": {
    "tags": []
   },
   "source": [
    "- **Không thể xóa được**\n",
    "- **Vừa có thể truy vấn (get), vừa có thể thiết lập (set)**"
   ]
  },
  {
   "cell_type": "markdown",
   "id": "d417ebcd-5c49-497f-a085-1f5fd39aa9a8",
   "metadata": {
    "tags": []
   },
   "source": [
    "### 3.1. Sử dụng chained indexing (chỉ nên dùng để truy vấn)"
   ]
  },
  {
   "cell_type": "markdown",
   "id": "e2b41e97-c4d7-40af-b4eb-607cc8ea18c0",
   "metadata": {
    "tags": []
   },
   "source": [
    "##### Truy xuất giá trị: ***df['tên cột'][index]***   với index là chỉ số index của dòng"
   ]
  },
  {
   "cell_type": "code",
   "execution_count": null,
   "id": "6b6baf00-404b-4ce3-8282-5df2ff3afef2",
   "metadata": {
    "tags": []
   },
   "outputs": [],
   "source": [
    "data['Place'][-1]"
   ]
  },
  {
   "cell_type": "markdown",
   "id": "23c5f2cb-141d-4661-89af-14ac892ce39e",
   "metadata": {
    "tags": []
   },
   "source": [
    "##### Thiết lập giá trị: ***df['tên cột'][index] = giá-trị***   với index là chỉ số index của dòng, giá trị là giá trị mong muốn. Khuyến cáo không nên dùng"
   ]
  },
  {
   "cell_type": "code",
   "execution_count": null,
   "id": "da3dc5d4-af63-43ad-81a2-5e914e35c03a",
   "metadata": {
    "tags": []
   },
   "outputs": [],
   "source": [
    "data['Place'][0] = 'Hanoi'\n",
    "display(data)"
   ]
  },
  {
   "cell_type": "markdown",
   "id": "b21a7b72-a83c-4874-8e4c-17e3fe243e9a",
   "metadata": {
    "tags": []
   },
   "source": [
    "## 3.2. Sử dụng .at[...]"
   ]
  },
  {
   "cell_type": "markdown",
   "id": "f1c7a53e-38af-4761-9587-f5a8fe5c0478",
   "metadata": {
    "tags": []
   },
   "source": [
    "##### Truy xuất: ***df.at[index, 'tên cột']***"
   ]
  },
  {
   "cell_type": "code",
   "execution_count": null,
   "id": "063f8bd3-6dfa-49bf-b3ab-ba01a12a54d9",
   "metadata": {
    "tags": []
   },
   "outputs": [],
   "source": [
    "data.at[0, 'Place']"
   ]
  },
  {
   "cell_type": "code",
   "execution_count": null,
   "id": "63171005-39c4-4dc0-a863-0bcb447803e2",
   "metadata": {},
   "outputs": [],
   "source": [
    "data.loc[1, 'Place']"
   ]
  },
  {
   "cell_type": "markdown",
   "id": "fec0b332-cae2-43e6-8363-4f912bd8265e",
   "metadata": {
    "tags": []
   },
   "source": [
    "##### Thiết lập: ***df.at[index, 'tên cột'] = giá-trị***"
   ]
  },
  {
   "cell_type": "code",
   "execution_count": null,
   "id": "9415c725-bf99-47f7-b656-dd359d651648",
   "metadata": {
    "tags": []
   },
   "outputs": [],
   "source": [
    "data.at[0, 'Place'] = 'SaiGon'\n",
    "display(data)\n",
    "# data.info()"
   ]
  },
  {
   "cell_type": "markdown",
   "id": "2937e988-1b40-4b57-8c6b-46e82f6ae825",
   "metadata": {
    "tags": []
   },
   "source": [
    "## 3.3. Sử dụng .loc[...] và .iloc[...]"
   ]
  },
  {
   "cell_type": "markdown",
   "id": "c50665f8-e735-4da4-9ff9-89007c5cf03e",
   "metadata": {
    "tags": []
   },
   "source": [
    "##### Truy xuất: ***df.loc[index, 'tên cột']***"
   ]
  },
  {
   "cell_type": "code",
   "execution_count": null,
   "id": "de2cdcb8-76ad-47b0-8c4d-67d4129e1465",
   "metadata": {
    "tags": []
   },
   "outputs": [],
   "source": [
    "data.loc[0,'Place']"
   ]
  },
  {
   "cell_type": "markdown",
   "id": "954dd385-9512-4f78-99aa-6b831959e9da",
   "metadata": {
    "tags": []
   },
   "source": [
    "##### Thiết lập: ***df.loc[index, 'tên cột'] = giá-trị***"
   ]
  },
  {
   "cell_type": "code",
   "execution_count": null,
   "id": "652e278b-35fd-4980-a2c9-6e64c4f61e28",
   "metadata": {
    "tags": []
   },
   "outputs": [],
   "source": [
    "data.loc[0,'Place'] = 'Hue'\n",
    "display(data)"
   ]
  },
  {
   "cell_type": "markdown",
   "id": "4a9c88e4-0a80-4737-98f4-92fd20c241bb",
   "metadata": {},
   "source": [
    "##### Truy vấn df.iloc[vị-trí-của-dòng, vị-trí-của-cột]"
   ]
  },
  {
   "cell_type": "code",
   "execution_count": null,
   "id": "9d9f3ba2-a6a0-41d5-a6ca-c900d40a411f",
   "metadata": {},
   "outputs": [],
   "source": [
    "data.iloc[0,0]"
   ]
  },
  {
   "cell_type": "markdown",
   "id": "7053e84c-4262-40c2-845f-c2c5fbbdc2db",
   "metadata": {},
   "source": [
    "##### Thiết lập giá mới df.iloc[vị-trí-của-dòng, vị-trí-của-cột] = giá-trị"
   ]
  },
  {
   "cell_type": "code",
   "execution_count": null,
   "id": "b94cb737-d6e6-4d32-abfa-9eaf3eda5198",
   "metadata": {},
   "outputs": [],
   "source": [
    "data.iloc[0,0]='Hue'\n",
    "display(data)"
   ]
  },
  {
   "cell_type": "markdown",
   "id": "a416faea-be5f-41e5-85c7-16a67e787f81",
   "metadata": {
    "tags": []
   },
   "source": [
    "## 4. Sử dụng .loc[...] và .iloc[...]"
   ]
  },
  {
   "cell_type": "markdown",
   "id": "9baa5247-5460-45b0-87d0-cbb985911a9a",
   "metadata": {
    "tags": []
   },
   "source": [
    "##### Giới thiệu"
   ]
  },
  {
   "cell_type": "markdown",
   "id": "e12f9b76-10db-4788-a8d2-bb66ac0836bd",
   "metadata": {},
   "source": [
    "Hai hàm này dùng để truy xuất, thiết lập giá trị tới 1 hoặc nhiều hàng, cột, ô.  \n",
    "Cú pháp chung **df.loc[các-dòng, các-cột]** và **df.iloc[các-dòng, các-cột]**  \n",
    "Điểm khác nhau là:  i = integer  \n",
    ".loc truy xuất theo giá trị của index của dòng và tên của cột  \n",
    ".iloc truy xuất theo thứ tự (luôn là số nguyên) của dòng và cột"
   ]
  },
  {
   "cell_type": "code",
   "execution_count": null,
   "id": "1dc06e32-9035-4e95-811b-cac81e8c2992",
   "metadata": {
    "tags": []
   },
   "outputs": [],
   "source": [
    "# Thêm 2 dòng có index -1, 2.5 vào bảng\n",
    "data.loc[-1] = ['ThanhHoa', 66, 'Nem chua', 5, 'KG', 6, 2022, 66.1234]\n",
    "data.loc[2.5] = ['DaNang', 77, 'BTCTH', 5, 'KG', 6, 2022, 77.1234]\n",
    "data = data.sort_index()\n",
    "display(data.head(10))"
   ]
  },
  {
   "cell_type": "markdown",
   "id": "b627adf4-f5e9-4b76-b631-6230269e81f2",
   "metadata": {},
   "source": [
    "### 4.1. Truy xuất 1 dòng"
   ]
  },
  {
   "cell_type": "markdown",
   "id": "594b6f40-ca0c-4557-b10d-166e2d1fd7cb",
   "metadata": {},
   "source": [
    "***Ví dụ: Lấy dòng có chứa DaNang***"
   ]
  },
  {
   "cell_type": "markdown",
   "id": "a148d1a8-054a-409f-9474-17338630442b",
   "metadata": {
    "tags": []
   },
   "source": [
    "##### Dùng **df.loc[index]**"
   ]
  },
  {
   "cell_type": "code",
   "execution_count": null,
   "id": "d2c36bae-0fd9-44da-82c3-4798e45e4dab",
   "metadata": {
    "tags": []
   },
   "outputs": [],
   "source": [
    "data.loc[2.5]"
   ]
  },
  {
   "cell_type": "markdown",
   "id": "2e77d150-dd6c-47e9-beaa-709aa3f747e5",
   "metadata": {
    "tags": []
   },
   "source": [
    "##### Dùng **df.iloc[vị trí dòng]**"
   ]
  },
  {
   "cell_type": "code",
   "execution_count": null,
   "id": "02ae063f-36fb-4ab0-9306-9c102adcbdd2",
   "metadata": {
    "tags": []
   },
   "outputs": [],
   "source": [
    "# data.iloc[2.5] #Sai\n",
    "data.iloc[4] # Chú ý, hàng đầu tiên đếm từ 0"
   ]
  },
  {
   "cell_type": "markdown",
   "id": "fdb9390e-68bb-45b7-9185-28320fc475ae",
   "metadata": {
    "tags": []
   },
   "source": [
    "### 4.2. Truy xuất nhiều dòng rời rạc"
   ]
  },
  {
   "cell_type": "markdown",
   "id": "4d4e8aaa-b9ad-464d-a498-25b82ec9881a",
   "metadata": {},
   "source": [
    "***Ví dụ: Lấy các dòng có chứa DaNang,ThanhHoa theo thứ tự đó***"
   ]
  },
  {
   "cell_type": "code",
   "execution_count": null,
   "id": "1818af82-bb4a-4187-a3c8-110abd39597f",
   "metadata": {},
   "outputs": [],
   "source": [
    "display(data.head(10)) #Hiển thị 10 dòng đầu tiên"
   ]
  },
  {
   "cell_type": "markdown",
   "id": "64d102d6-89de-427c-ba6f-d62ab4eff856",
   "metadata": {
    "tags": []
   },
   "source": [
    "##### Dùng **df.loc[[index1, index2, ...]]**"
   ]
  },
  {
   "cell_type": "code",
   "execution_count": null,
   "id": "93bb0a26-bcdf-4af1-a2da-04d13bc4e117",
   "metadata": {
    "tags": []
   },
   "outputs": [],
   "source": [
    "data.loc[[2.5, -1]]"
   ]
  },
  {
   "cell_type": "markdown",
   "id": "ebececb5-4c87-4ea5-b303-43dc258e543d",
   "metadata": {
    "tags": []
   },
   "source": [
    "##### Dùng **df.iloc[[vitri1, vitri2, ...]]**"
   ]
  },
  {
   "cell_type": "code",
   "execution_count": null,
   "id": "90265700-9d41-488a-87d5-f3ebdc26ace7",
   "metadata": {
    "tags": []
   },
   "outputs": [],
   "source": [
    "data.iloc[[4, 0]]"
   ]
  },
  {
   "cell_type": "markdown",
   "id": "35c7fe7d-3f5c-4b36-ae5f-e2120f04416a",
   "metadata": {
    "tags": []
   },
   "source": [
    "### 4.3. Truy xuất nhiều dòng liền nhau"
   ]
  },
  {
   "cell_type": "markdown",
   "id": "5e3d8499-b008-4241-b821-a2c141d76f9f",
   "metadata": {},
   "source": [
    "***Ví dụ: Lấy các dòng từ ThanhHoa tới DaNang***"
   ]
  },
  {
   "cell_type": "code",
   "execution_count": null,
   "id": "3dd5830f-d7f7-4145-a83b-d96c02d3b3c9",
   "metadata": {},
   "outputs": [],
   "source": [
    "display(data.head(10))"
   ]
  },
  {
   "cell_type": "markdown",
   "id": "7adcb542-494b-48d1-8d77-1a4484caaf2a",
   "metadata": {
    "tags": []
   },
   "source": [
    "##### Dùng df.loc[index-bắt-đầu : index-kết-thúc]  "
   ]
  },
  {
   "cell_type": "code",
   "execution_count": null,
   "id": "ab4c00cf-49d3-43cb-8726-2231852916ee",
   "metadata": {
    "tags": []
   },
   "outputs": [],
   "source": [
    "data.loc[-1:2.5]"
   ]
  },
  {
   "cell_type": "code",
   "execution_count": null,
   "id": "b12765db-d028-414f-8f66-7d6594a60f7a",
   "metadata": {
    "tags": []
   },
   "outputs": [],
   "source": [
    "#Nếu thiếu index-bắt-đầu thì mặc định là bắt đầu từ đầu bảng\n",
    "#Nếu thiếu index-kết-thúc thì mặc định là kết thúc ở cuối bảng\n",
    "data.loc[:2.5]"
   ]
  },
  {
   "cell_type": "markdown",
   "id": "3e6d6979-89ac-4770-8566-572fc3c7b13d",
   "metadata": {
    "tags": []
   },
   "source": [
    "##### Dùng df.iloc[vị-trí-bắt-đầu : vị-trí-cần-lấy + 1]  \n",
    "##### Công thức khác df.iloc[vị-trí-bắt-đầu : vị-trí-bắt-đầu + length]"
   ]
  },
  {
   "cell_type": "code",
   "execution_count": null,
   "id": "b39f203e-2c95-41ad-b23a-25d2f65ab140",
   "metadata": {
    "tags": []
   },
   "outputs": [],
   "source": [
    "data.iloc[0:5] # 5 = 4 + 1"
   ]
  },
  {
   "cell_type": "code",
   "execution_count": null,
   "id": "8c631a2a-efb1-44c8-bbaa-afd3c43c3476",
   "metadata": {
    "tags": []
   },
   "outputs": [],
   "source": [
    "#Nếu thiếu vị-trí-bắt-đầu thì mặc định là bắt đầu từ đầu bảng (0)\n",
    "#Nếu thiếu vị-trí-kết-thúc thì mặc định là kết thúc ở cuối bảng\n",
    "data.iloc[:5]"
   ]
  },
  {
   "cell_type": "markdown",
   "id": "225b059b-7522-44d4-9eab-65fc20309f44",
   "metadata": {
    "tags": []
   },
   "source": [
    "### 4.4. Truy xuất tới 1 cột"
   ]
  },
  {
   "cell_type": "markdown",
   "id": "44a10450-4e7f-41e9-938c-2cca9b09383e",
   "metadata": {},
   "source": [
    "***Ví dụ: Lấy cột có tên ProductName***"
   ]
  },
  {
   "cell_type": "markdown",
   "id": "c15216ed-a1dc-42cc-8331-b693410f32c8",
   "metadata": {
    "tags": []
   },
   "source": [
    "##### Dùng df.loc[:, 'tên cột']  "
   ]
  },
  {
   "cell_type": "code",
   "execution_count": null,
   "id": "36a7b484-953c-471b-840a-8b95bc5885a6",
   "metadata": {
    "tags": []
   },
   "outputs": [],
   "source": [
    "data.loc[:,'ProductName']"
   ]
  },
  {
   "cell_type": "markdown",
   "id": "f80f7b12-0dad-4a17-a79b-e882d583e39c",
   "metadata": {
    "tags": []
   },
   "source": [
    "##### Dùng df.iloc[:, 'vị-trí-cột']  đếm từ 0"
   ]
  },
  {
   "cell_type": "code",
   "execution_count": null,
   "id": "33080e4a-0900-42dc-9d64-e29608df0f4e",
   "metadata": {
    "tags": []
   },
   "outputs": [],
   "source": [
    "data.iloc[:, 2]"
   ]
  },
  {
   "cell_type": "markdown",
   "id": "3eaba88c-fa53-4d1f-8336-203dab9de369",
   "metadata": {
    "tags": []
   },
   "source": [
    "### 4.5. Truy xuất tới nhiều cột rời rạc"
   ]
  },
  {
   "cell_type": "markdown",
   "id": "54d9317f-f475-49ac-923f-82e463488f78",
   "metadata": {},
   "source": [
    "***Ví dụ: Lấy cột có tên là ProductName và Place, theo đúng thứ tự đó***"
   ]
  },
  {
   "cell_type": "markdown",
   "id": "31cccbbc-8e17-443a-881b-9138be35af56",
   "metadata": {
    "tags": []
   },
   "source": [
    "##### Dùng df.loc[:, ['tên cột 1', 'tên cột 2', ...]  ]"
   ]
  },
  {
   "cell_type": "code",
   "execution_count": null,
   "id": "e28daa74-edae-4d66-8c91-15fcda491713",
   "metadata": {
    "tags": []
   },
   "outputs": [],
   "source": [
    "data.loc[:,['ProductName','Place']]"
   ]
  },
  {
   "cell_type": "markdown",
   "id": "fb58ea67-3533-4493-8e9b-ad7ed692b742",
   "metadata": {
    "tags": []
   },
   "source": [
    "##### Dùng df.iloc[:, [vị-trí-cột-1, vị-trí-cột-2, ...]  ]"
   ]
  },
  {
   "cell_type": "code",
   "execution_count": null,
   "id": "86a32ce4-5a98-489d-b0b6-cecca49c852e",
   "metadata": {
    "tags": []
   },
   "outputs": [],
   "source": [
    "data.iloc[:, [2,0]]"
   ]
  },
  {
   "cell_type": "markdown",
   "id": "3555c9d3-042d-4e14-9587-e17a1fbe2c7d",
   "metadata": {
    "tags": []
   },
   "source": [
    "### 4.6. Truy xuất tới nhiều cột liên tiếp"
   ]
  },
  {
   "cell_type": "markdown",
   "id": "31e5faca-0474-4250-83cc-975630e7b9d0",
   "metadata": {},
   "source": [
    "***Ví dụ: Lấy cột có tên từ ProductId tới UmName***"
   ]
  },
  {
   "cell_type": "code",
   "execution_count": null,
   "id": "c13622d4-3ed2-41b6-9568-86a3d34b74f6",
   "metadata": {},
   "outputs": [],
   "source": [
    "display(data.head(10))"
   ]
  },
  {
   "cell_type": "markdown",
   "id": "f57e530b-bb24-4faa-bdd6-b5134bc81308",
   "metadata": {
    "tags": []
   },
   "source": [
    "##### Dùng df.loc[:, 'tên cột bắt đầu' : 'tên cột kết thúc']"
   ]
  },
  {
   "cell_type": "code",
   "execution_count": null,
   "id": "380fb0c9-d69d-49d5-985d-af4a0a2176dc",
   "metadata": {
    "tags": []
   },
   "outputs": [],
   "source": [
    "data.loc[:,'ProductId':'UmName']"
   ]
  },
  {
   "cell_type": "markdown",
   "id": "60da234a-1cad-4e90-8498-52437f213851",
   "metadata": {
    "tags": []
   },
   "source": [
    "##### Dùng df.iloc[:, vị-trí-cột-bắt-đầu : vị-trí-cột-cuối + 1]\n",
    "##### df.iloc[:, vị-trí-cột-bắt-đầu : vị-trí-cột-bắt-đầu + số-lượng-cột]"
   ]
  },
  {
   "cell_type": "code",
   "execution_count": null,
   "id": "7f145ab9-420f-41fa-b3d3-af6f62526568",
   "metadata": {
    "tags": []
   },
   "outputs": [],
   "source": [
    "data.iloc[:, 1:5]"
   ]
  },
  {
   "cell_type": "markdown",
   "id": "7ef35d20-73c3-4521-b7db-8a46ad9e01a2",
   "metadata": {
    "tags": []
   },
   "source": [
    "### 4.7. Truy xuất tới một số cột và hàng liên tiếp"
   ]
  },
  {
   "cell_type": "code",
   "execution_count": null,
   "id": "de694a0f-00fb-451a-b95e-57e75037b9b8",
   "metadata": {},
   "outputs": [],
   "source": [
    "# data.loc[9] = ['NhaTrang', 88, 'Cá ngựa khô', 5, 'KG', 10, 2022, 77.1234] \n",
    "display(data.head(15))"
   ]
  },
  {
   "cell_type": "markdown",
   "id": "c9c491bb-aaed-45e5-ac9c-2261c28e7313",
   "metadata": {},
   "source": [
    "***Ví dụ: Lấy cột có chứa từ Place tới ProductName, 10 hàng bắt đầu từ DaNang***"
   ]
  },
  {
   "cell_type": "markdown",
   "id": "dc4bba21-8a8c-4bc6-839e-527ab8c2ae9e",
   "metadata": {
    "tags": []
   },
   "source": [
    "##### Dùng df.loc[index_dòng_đầu : index_dòng_cuối , tên_cột_đầu : tên_cột_cuối]"
   ]
  },
  {
   "cell_type": "code",
   "execution_count": null,
   "id": "60a4a163-c2d0-41c8-883e-a3818ba6df3e",
   "metadata": {
    "tags": []
   },
   "outputs": [],
   "source": [
    "data.loc[2.5:11,'Place':'ProductName']"
   ]
  },
  {
   "cell_type": "markdown",
   "id": "518ef336-30d3-4811-82bd-216fb6cfcd0b",
   "metadata": {
    "tags": []
   },
   "source": [
    "##### Dùng df.iloc[vitri_dòng_đầu : soluong_dong + vitri_dòng_đầu , vitri_cột_đầu : soluong_cot + vitri_cot_dau]"
   ]
  },
  {
   "cell_type": "code",
   "execution_count": null,
   "id": "dc1dbe9b-7c81-49ad-aee8-69b8ec0edf1e",
   "metadata": {
    "tags": []
   },
   "outputs": [],
   "source": [
    "data.iloc[4:14, 0:3]"
   ]
  },
  {
   "cell_type": "markdown",
   "id": "2dc03485-93fb-4cca-b551-d888cf6310ad",
   "metadata": {},
   "source": [
    "***Ví dụ: Lấy cell \"cá ngựa khô\"***"
   ]
  },
  {
   "cell_type": "code",
   "execution_count": null,
   "id": "2d0bdd91-9ff8-4ef1-8ee4-f076adc64416",
   "metadata": {},
   "outputs": [],
   "source": [
    "data.loc[9,'ProductName']"
   ]
  },
  {
   "cell_type": "code",
   "execution_count": null,
   "id": "13c48942-ae5a-4585-9cec-9dea32388d70",
   "metadata": {},
   "outputs": [],
   "source": [
    "data.iloc[11,2]"
   ]
  },
  {
   "cell_type": "markdown",
   "id": "43268426-a510-441e-adac-44cca4f034ec",
   "metadata": {},
   "source": [
    "***Bonus: Slicer***"
   ]
  },
  {
   "cell_type": "code",
   "execution_count": null,
   "id": "9d70e893-49c4-4cb9-8031-4e28bf0c9313",
   "metadata": {},
   "outputs": [],
   "source": [
    "data"
   ]
  },
  {
   "cell_type": "code",
   "execution_count": null,
   "id": "b5e566ba-2602-48db-818f-61e7a24fc34c",
   "metadata": {},
   "outputs": [],
   "source": [
    "data.iloc[0:100:2,0:7:2] \n",
    "# Cấu trúc selector a:b:c -> a: bắt đầu, \n",
    "# b: kết thúc+1 (hoặc bắt đầu + số lượng), c: khoảng cách"
   ]
  }
 ],
 "metadata": {
  "kernelspec": {
   "display_name": "Python 3 (ipykernel)",
   "language": "python",
   "name": "python3"
  },
  "language_info": {
   "codemirror_mode": {
    "name": "ipython",
    "version": 3
   },
   "file_extension": ".py",
   "mimetype": "text/x-python",
   "name": "python",
   "nbconvert_exporter": "python",
   "pygments_lexer": "ipython3",
   "version": "3.9.12"
  }
 },
 "nbformat": 4,
 "nbformat_minor": 5
}
