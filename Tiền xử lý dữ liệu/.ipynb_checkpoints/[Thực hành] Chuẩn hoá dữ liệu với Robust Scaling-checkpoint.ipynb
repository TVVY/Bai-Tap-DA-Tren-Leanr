{
 "cells": [
  {
   "cell_type": "code",
   "execution_count": 1,
   "id": "54160240",
   "metadata": {},
   "outputs": [],
   "source": [
    "import pandas as pd\n",
    "import numpy as np\n",
    "import matplotlib.pyplot as plt\n",
    "import seaborn as sns\n",
    "from sklearn.preprocessing import RobustScaler"
   ]
  },
  {
   "cell_type": "code",
   "execution_count": 2,
   "id": "d689aaa3",
   "metadata": {},
   "outputs": [],
   "source": [
    "# tạo các cột theo các phần phối khác nhau\n",
    "df = pd.DataFrame({ \n",
    "    'beta': np.random.beta(5, 1, 1000) * 60,        # beta\n",
    "    'exponential': np.random.exponential(10, 1000), # exponential\n",
    "    'normal_p': np.random.normal(10, 2, 1000),      # normal platykurtic\n",
    "    'normal_l': np.random.normal(10, 10, 1000),     # normal leptokurtic\n",
    "})"
   ]
  },
  {
   "cell_type": "code",
   "execution_count": 3,
   "id": "d4d9653c",
   "metadata": {},
   "outputs": [],
   "source": [
    "# thêm dữ liệu được tạo theo phân phối nhị thức\n",
    "first_half = np.random.normal(20, 3, 500) \n",
    "second_half = np.random.normal(-20, 3, 500) \n",
    "bimodal = np.concatenate([first_half, second_half])\n",
    "\n",
    "df['bimodal'] = bimodal"
   ]
  },
  {
   "cell_type": "code",
   "execution_count": 4,
   "id": "efc0a2f7",
   "metadata": {},
   "outputs": [
    {
     "data": {
      "text/html": [
       "<div>\n",
       "<style scoped>\n",
       "    .dataframe tbody tr th:only-of-type {\n",
       "        vertical-align: middle;\n",
       "    }\n",
       "\n",
       "    .dataframe tbody tr th {\n",
       "        vertical-align: top;\n",
       "    }\n",
       "\n",
       "    .dataframe thead th {\n",
       "        text-align: right;\n",
       "    }\n",
       "</style>\n",
       "<table border=\"1\" class=\"dataframe\">\n",
       "  <thead>\n",
       "    <tr style=\"text-align: right;\">\n",
       "      <th></th>\n",
       "      <th>beta</th>\n",
       "      <th>exponential</th>\n",
       "      <th>normal_p</th>\n",
       "      <th>normal_l</th>\n",
       "      <th>bimodal</th>\n",
       "    </tr>\n",
       "  </thead>\n",
       "  <tbody>\n",
       "    <tr>\n",
       "      <th>0</th>\n",
       "      <td>33.481329</td>\n",
       "      <td>9.495518</td>\n",
       "      <td>6.277127</td>\n",
       "      <td>8.045200</td>\n",
       "      <td>19.191048</td>\n",
       "    </tr>\n",
       "    <tr>\n",
       "      <th>1</th>\n",
       "      <td>47.820649</td>\n",
       "      <td>37.196856</td>\n",
       "      <td>6.706202</td>\n",
       "      <td>9.648112</td>\n",
       "      <td>23.884398</td>\n",
       "    </tr>\n",
       "    <tr>\n",
       "      <th>2</th>\n",
       "      <td>21.851270</td>\n",
       "      <td>15.349778</td>\n",
       "      <td>9.435272</td>\n",
       "      <td>14.703069</td>\n",
       "      <td>19.988920</td>\n",
       "    </tr>\n",
       "    <tr>\n",
       "      <th>3</th>\n",
       "      <td>58.808093</td>\n",
       "      <td>18.112232</td>\n",
       "      <td>12.060295</td>\n",
       "      <td>15.409802</td>\n",
       "      <td>15.846886</td>\n",
       "    </tr>\n",
       "    <tr>\n",
       "      <th>4</th>\n",
       "      <td>25.739674</td>\n",
       "      <td>4.171772</td>\n",
       "      <td>7.363219</td>\n",
       "      <td>-10.788134</td>\n",
       "      <td>21.777223</td>\n",
       "    </tr>\n",
       "  </tbody>\n",
       "</table>\n",
       "</div>"
      ],
      "text/plain": [
       "        beta  exponential   normal_p   normal_l    bimodal\n",
       "0  33.481329     9.495518   6.277127   8.045200  19.191048\n",
       "1  47.820649    37.196856   6.706202   9.648112  23.884398\n",
       "2  21.851270    15.349778   9.435272  14.703069  19.988920\n",
       "3  58.808093    18.112232  12.060295  15.409802  15.846886\n",
       "4  25.739674     4.171772   7.363219 -10.788134  21.777223"
      ]
     },
     "execution_count": 4,
     "metadata": {},
     "output_type": "execute_result"
    }
   ],
   "source": [
    "# hiển thị dữ liệu\n",
    "df.head()"
   ]
  },
  {
   "cell_type": "code",
   "execution_count": 5,
   "id": "77d98c5e",
   "metadata": {},
   "outputs": [
    {
     "data": {
      "text/plain": [
       "<AxesSubplot:ylabel='Density'>"
      ]
     },
     "execution_count": 5,
     "metadata": {},
     "output_type": "execute_result"
    },
    {
     "data": {
      "image/png": "[encoded data removed]",
      "text/plain": [
       "<Figure size 432x288 with 1 Axes>"
      ]
     },
     "metadata": {
      "needs_background": "light"
     },
     "output_type": "display_data"
    }
   ],
   "source": [
    "sns.kdeplot(data=df)"
   ]
  },
  {
   "cell_type": "code",
   "execution_count": 6,
   "id": "ed76f608",
   "metadata": {},
   "outputs": [
    {
     "data": {
      "text/html": [
       "<div>\n",
       "<style scoped>\n",
       "    .dataframe tbody tr th:only-of-type {\n",
       "        vertical-align: middle;\n",
       "    }\n",
       "\n",
       "    .dataframe tbody tr th {\n",
       "        vertical-align: top;\n",
       "    }\n",
       "\n",
       "    .dataframe thead th {\n",
       "        text-align: right;\n",
       "    }\n",
       "</style>\n",
       "<table border=\"1\" class=\"dataframe\">\n",
       "  <thead>\n",
       "    <tr style=\"text-align: right;\">\n",
       "      <th></th>\n",
       "      <th>beta</th>\n",
       "      <th>exponential</th>\n",
       "      <th>normal_p</th>\n",
       "      <th>normal_l</th>\n",
       "      <th>bimodal</th>\n",
       "    </tr>\n",
       "  </thead>\n",
       "  <tbody>\n",
       "    <tr>\n",
       "      <th>count</th>\n",
       "      <td>1000.000000</td>\n",
       "      <td>1000.000000</td>\n",
       "      <td>1000.000000</td>\n",
       "      <td>1000.000000</td>\n",
       "      <td>1000.000000</td>\n",
       "    </tr>\n",
       "    <tr>\n",
       "      <th>mean</th>\n",
       "      <td>49.969543</td>\n",
       "      <td>10.206222</td>\n",
       "      <td>10.008339</td>\n",
       "      <td>10.270072</td>\n",
       "      <td>0.060140</td>\n",
       "    </tr>\n",
       "    <tr>\n",
       "      <th>std</th>\n",
       "      <td>8.334290</td>\n",
       "      <td>9.666499</td>\n",
       "      <td>1.967933</td>\n",
       "      <td>9.727733</td>\n",
       "      <td>20.394193</td>\n",
       "    </tr>\n",
       "    <tr>\n",
       "      <th>min</th>\n",
       "      <td>15.142479</td>\n",
       "      <td>0.021790</td>\n",
       "      <td>3.057949</td>\n",
       "      <td>-18.217193</td>\n",
       "      <td>-30.004432</td>\n",
       "    </tr>\n",
       "    <tr>\n",
       "      <th>25%</th>\n",
       "      <td>45.930629</td>\n",
       "      <td>3.283037</td>\n",
       "      <td>8.689203</td>\n",
       "      <td>3.982452</td>\n",
       "      <td>-19.986707</td>\n",
       "    </tr>\n",
       "    <tr>\n",
       "      <th>50%</th>\n",
       "      <td>51.962686</td>\n",
       "      <td>7.359639</td>\n",
       "      <td>10.009825</td>\n",
       "      <td>9.963093</td>\n",
       "      <td>-1.587937</td>\n",
       "    </tr>\n",
       "    <tr>\n",
       "      <th>75%</th>\n",
       "      <td>56.617261</td>\n",
       "      <td>14.092309</td>\n",
       "      <td>11.305971</td>\n",
       "      <td>16.916705</td>\n",
       "      <td>20.303467</td>\n",
       "    </tr>\n",
       "    <tr>\n",
       "      <th>max</th>\n",
       "      <td>59.986934</td>\n",
       "      <td>64.785449</td>\n",
       "      <td>16.462554</td>\n",
       "      <td>43.241679</td>\n",
       "      <td>28.334378</td>\n",
       "    </tr>\n",
       "  </tbody>\n",
       "</table>\n",
       "</div>"
      ],
      "text/plain": [
       "              beta  exponential     normal_p     normal_l      bimodal\n",
       "count  1000.000000  1000.000000  1000.000000  1000.000000  1000.000000\n",
       "mean     49.969543    10.206222    10.008339    10.270072     0.060140\n",
       "std       8.334290     9.666499     1.967933     9.727733    20.394193\n",
       "min      15.142479     0.021790     3.057949   -18.217193   -30.004432\n",
       "25%      45.930629     3.283037     8.689203     3.982452   -19.986707\n",
       "50%      51.962686     7.359639    10.009825     9.963093    -1.587937\n",
       "75%      56.617261    14.092309    11.305971    16.916705    20.303467\n",
       "max      59.986934    64.785449    16.462554    43.241679    28.334378"
      ]
     },
     "execution_count": 6,
     "metadata": {},
     "output_type": "execute_result"
    }
   ],
   "source": [
    "df.describe()"
   ]
  },
  {
   "cell_type": "code",
   "execution_count": 7,
   "id": "dfe7e108",
   "metadata": {},
   "outputs": [
    {
     "data": {
      "text/plain": [
       "<AxesSubplot:ylabel='Density'>"
      ]
     },
     "execution_count": 7,
     "metadata": {},
     "output_type": "execute_result"
    },
    {
     "data": {
      "image/png": "[encoded data removed]",
      "text/plain": [
       "<Figure size 432x288 with 1 Axes>"
      ]
     },
     "metadata": {
      "needs_background": "light"
     },
     "output_type": "display_data"
    }
   ],
   "source": [
    "normal_big = np.random.normal(1000000, 10000, (1000,1))  # normal distribution of large values\n",
    "df['normal_big'] = normal_big\n",
    "sns.kdeplot(data=df)"
   ]
  },
  {
   "cell_type": "code",
   "execution_count": 8,
   "id": "9e5d219e",
   "metadata": {},
   "outputs": [
    {
     "data": {
      "text/plain": [
       "<AxesSubplot:>"
      ]
     },
     "execution_count": 8,
     "metadata": {},
     "output_type": "execute_result"
    },
    {
     "data": {
      "image/png": "[encoded data removed]",
      "text/plain": [
       "<Figure size 432x288 with 1 Axes>"
      ]
     },
     "metadata": {
      "needs_background": "light"
     },
     "output_type": "display_data"
    }
   ],
   "source": [
    "# trực quan hóa bằng biểu đồ box plot\n",
    "df.boxplot()"
   ]
  },
  {
   "cell_type": "code",
   "execution_count": 9,
   "id": "8c5b734c",
   "metadata": {},
   "outputs": [],
   "source": [
    "# Khai báo đối tượng RobustScaler\n",
    "scaler = RobustScaler()"
   ]
  },
  {
   "cell_type": "code",
   "execution_count": 10,
   "id": "1db94d44",
   "metadata": {},
   "outputs": [],
   "source": [
    "# Chuẩn hóa dữ liệu trong df với StandardScaler\n",
    "df_s = scaler.fit_transform(df)\n",
    "\n",
    "# lấy danh sáchc cột\n",
    "col_names = list(df.columns)\n",
    "\n",
    "# chuyển về DataFrame, gán các cột của df cho dữ liệu đã được chuẩn hóa\n",
    "df_s = pd.DataFrame(df_s, columns=col_names)"
   ]
  },
  {
   "cell_type": "code",
   "execution_count": 11,
   "id": "866e17c7",
   "metadata": {},
   "outputs": [
    {
     "data": {
      "text/html": [
       "<div>\n",
       "<style scoped>\n",
       "    .dataframe tbody tr th:only-of-type {\n",
       "        vertical-align: middle;\n",
       "    }\n",
       "\n",
       "    .dataframe tbody tr th {\n",
       "        vertical-align: top;\n",
       "    }\n",
       "\n",
       "    .dataframe thead th {\n",
       "        text-align: right;\n",
       "    }\n",
       "</style>\n",
       "<table border=\"1\" class=\"dataframe\">\n",
       "  <thead>\n",
       "    <tr style=\"text-align: right;\">\n",
       "      <th></th>\n",
       "      <th>beta</th>\n",
       "      <th>exponential</th>\n",
       "      <th>normal_p</th>\n",
       "      <th>normal_l</th>\n",
       "      <th>bimodal</th>\n",
       "      <th>normal_big</th>\n",
       "    </tr>\n",
       "  </thead>\n",
       "  <tbody>\n",
       "    <tr>\n",
       "      <th>0</th>\n",
       "      <td>-1.729390</td>\n",
       "      <td>0.197597</td>\n",
       "      <td>-1.426454</td>\n",
       "      <td>-0.148280</td>\n",
       "      <td>0.515733</td>\n",
       "      <td>-0.137438</td>\n",
       "    </tr>\n",
       "    <tr>\n",
       "      <th>1</th>\n",
       "      <td>-0.387591</td>\n",
       "      <td>2.760335</td>\n",
       "      <td>-1.262482</td>\n",
       "      <td>-0.024353</td>\n",
       "      <td>0.632222</td>\n",
       "      <td>-1.963998</td>\n",
       "    </tr>\n",
       "    <tr>\n",
       "      <th>2</th>\n",
       "      <td>-2.817671</td>\n",
       "      <td>0.739193</td>\n",
       "      <td>-0.219566</td>\n",
       "      <td>0.366467</td>\n",
       "      <td>0.535536</td>\n",
       "      <td>1.067302</td>\n",
       "    </tr>\n",
       "    <tr>\n",
       "      <th>3</th>\n",
       "      <td>0.640558</td>\n",
       "      <td>0.994756</td>\n",
       "      <td>0.783589</td>\n",
       "      <td>0.421107</td>\n",
       "      <td>0.432731</td>\n",
       "      <td>0.810099</td>\n",
       "    </tr>\n",
       "    <tr>\n",
       "      <th>4</th>\n",
       "      <td>-2.453814</td>\n",
       "      <td>-0.294920</td>\n",
       "      <td>-1.011403</td>\n",
       "      <td>-1.604362</td>\n",
       "      <td>0.579922</td>\n",
       "      <td>0.080247</td>\n",
       "    </tr>\n",
       "  </tbody>\n",
       "</table>\n",
       "</div>"
      ],
      "text/plain": [
       "       beta  exponential  normal_p  normal_l   bimodal  normal_big\n",
       "0 -1.729390     0.197597 -1.426454 -0.148280  0.515733   -0.137438\n",
       "1 -0.387591     2.760335 -1.262482 -0.024353  0.632222   -1.963998\n",
       "2 -2.817671     0.739193 -0.219566  0.366467  0.535536    1.067302\n",
       "3  0.640558     0.994756  0.783589  0.421107  0.432731    0.810099\n",
       "4 -2.453814    -0.294920 -1.011403 -1.604362  0.579922    0.080247"
      ]
     },
     "execution_count": 11,
     "metadata": {},
     "output_type": "execute_result"
    }
   ],
   "source": [
    "df_s.head()"
   ]
  },
  {
   "cell_type": "code",
   "execution_count": 12,
   "id": "162bd450",
   "metadata": {},
   "outputs": [
    {
     "data": {
      "text/plain": [
       "<AxesSubplot:ylabel='Density'>"
      ]
     },
     "execution_count": 12,
     "metadata": {},
     "output_type": "execute_result"
    },
    {
     "data": {
      "image/png": "[encoded data removed]",
      "text/plain": [
       "<Figure size 432x288 with 1 Axes>"
      ]
     },
     "metadata": {
      "needs_background": "light"
     },
     "output_type": "display_data"
    }
   ],
   "source": [
    "# biểu diễn dữ liệu đã được chuẩn hóa\n",
    "sns.kdeplot(data=df_s)"
   ]
  },
  {
   "cell_type": "code",
   "execution_count": 13,
   "id": "c9041ef0",
   "metadata": {},
   "outputs": [
    {
     "data": {
      "text/html": [
       "<div>\n",
       "<style scoped>\n",
       "    .dataframe tbody tr th:only-of-type {\n",
       "        vertical-align: middle;\n",
       "    }\n",
       "\n",
       "    .dataframe tbody tr th {\n",
       "        vertical-align: top;\n",
       "    }\n",
       "\n",
       "    .dataframe thead th {\n",
       "        text-align: right;\n",
       "    }\n",
       "</style>\n",
       "<table border=\"1\" class=\"dataframe\">\n",
       "  <thead>\n",
       "    <tr style=\"text-align: right;\">\n",
       "      <th></th>\n",
       "      <th>beta</th>\n",
       "      <th>exponential</th>\n",
       "      <th>normal_p</th>\n",
       "      <th>normal_l</th>\n",
       "      <th>bimodal</th>\n",
       "      <th>normal_big</th>\n",
       "    </tr>\n",
       "  </thead>\n",
       "  <tbody>\n",
       "    <tr>\n",
       "      <th>count</th>\n",
       "      <td>1000.000000</td>\n",
       "      <td>1000.000000</td>\n",
       "      <td>1000.000000</td>\n",
       "      <td>1.000000e+03</td>\n",
       "      <td>1000.000000</td>\n",
       "      <td>1.000000e+03</td>\n",
       "    </tr>\n",
       "    <tr>\n",
       "      <th>mean</th>\n",
       "      <td>-0.186508</td>\n",
       "      <td>0.263346</td>\n",
       "      <td>-0.000568</td>\n",
       "      <td>2.373379e-02</td>\n",
       "      <td>0.040905</td>\n",
       "      <td>9.167322e-03</td>\n",
       "    </tr>\n",
       "    <tr>\n",
       "      <th>std</th>\n",
       "      <td>0.779880</td>\n",
       "      <td>0.894278</td>\n",
       "      <td>0.752047</td>\n",
       "      <td>7.520908e-01</td>\n",
       "      <td>0.506183</td>\n",
       "      <td>7.759181e-01</td>\n",
       "    </tr>\n",
       "    <tr>\n",
       "      <th>min</th>\n",
       "      <td>-3.445445</td>\n",
       "      <td>-0.678848</td>\n",
       "      <td>-2.656665</td>\n",
       "      <td>-2.178733e+00</td>\n",
       "      <td>-0.705296</td>\n",
       "      <td>-2.940558e+00</td>\n",
       "    </tr>\n",
       "    <tr>\n",
       "      <th>25%</th>\n",
       "      <td>-0.564449</td>\n",
       "      <td>-0.377139</td>\n",
       "      <td>-0.504677</td>\n",
       "      <td>-4.623879e-01</td>\n",
       "      <td>-0.456657</td>\n",
       "      <td>-4.829929e-01</td>\n",
       "    </tr>\n",
       "    <tr>\n",
       "      <th>50%</th>\n",
       "      <td>0.000000</td>\n",
       "      <td>0.000000</td>\n",
       "      <td>0.000000</td>\n",
       "      <td>-6.852158e-17</td>\n",
       "      <td>0.000000</td>\n",
       "      <td>4.492175e-15</td>\n",
       "    </tr>\n",
       "    <tr>\n",
       "      <th>75%</th>\n",
       "      <td>0.435551</td>\n",
       "      <td>0.622861</td>\n",
       "      <td>0.495323</td>\n",
       "      <td>5.376121e-01</td>\n",
       "      <td>0.543343</td>\n",
       "      <td>5.170071e-01</td>\n",
       "    </tr>\n",
       "    <tr>\n",
       "      <th>max</th>\n",
       "      <td>0.750868</td>\n",
       "      <td>5.312643</td>\n",
       "      <td>2.465916</td>\n",
       "      <td>2.572903e+00</td>\n",
       "      <td>0.742670</td>\n",
       "      <td>3.081456e+00</td>\n",
       "    </tr>\n",
       "  </tbody>\n",
       "</table>\n",
       "</div>"
      ],
      "text/plain": [
       "              beta  exponential     normal_p      normal_l      bimodal  \\\n",
       "count  1000.000000  1000.000000  1000.000000  1.000000e+03  1000.000000   \n",
       "mean     -0.186508     0.263346    -0.000568  2.373379e-02     0.040905   \n",
       "std       0.779880     0.894278     0.752047  7.520908e-01     0.506183   \n",
       "min      -3.445445    -0.678848    -2.656665 -2.178733e+00    -0.705296   \n",
       "25%      -0.564449    -0.377139    -0.504677 -4.623879e-01    -0.456657   \n",
       "50%       0.000000     0.000000     0.000000 -6.852158e-17     0.000000   \n",
       "75%       0.435551     0.622861     0.495323  5.376121e-01     0.543343   \n",
       "max       0.750868     5.312643     2.465916  2.572903e+00     0.742670   \n",
       "\n",
       "         normal_big  \n",
       "count  1.000000e+03  \n",
       "mean   9.167322e-03  \n",
       "std    7.759181e-01  \n",
       "min   -2.940558e+00  \n",
       "25%   -4.829929e-01  \n",
       "50%    4.492175e-15  \n",
       "75%    5.170071e-01  \n",
       "max    3.081456e+00  "
      ]
     },
     "execution_count": 13,
     "metadata": {},
     "output_type": "execute_result"
    }
   ],
   "source": [
    "# thống kê về dữ liệu được sinh ra\n",
    "df_s.describe()"
   ]
  },
  {
   "cell_type": "code",
   "execution_count": 14,
   "id": "4ad25b98",
   "metadata": {},
   "outputs": [
    {
     "data": {
      "text/plain": [
       "<AxesSubplot:>"
      ]
     },
     "execution_count": 14,
     "metadata": {},
     "output_type": "execute_result"
    },
    {
     "data": {
      "image/png": "[encoded data removed]",
      "text/plain": [
       "<Figure size 432x288 with 1 Axes>"
      ]
     },
     "metadata": {
      "needs_background": "light"
     },
     "output_type": "display_data"
    }
   ],
   "source": [
    "df_s.boxplot()"
   ]
  },
  {
   "cell_type": "code",
   "execution_count": 15,
   "id": "38020d09",
   "metadata": {},
   "outputs": [
    {
     "data": {
      "text/plain": [
       "[-3.4454452204613917,\n",
       " -0.6788476216326906,\n",
       " -2.656664809265713,\n",
       " -2.1787331191871915,\n",
       " -0.7052959196879366,\n",
       " -2.9405575118377842]"
      ]
     },
     "execution_count": 15,
     "metadata": {},
     "output_type": "execute_result"
    }
   ],
   "source": [
    "# lấy các giá trị min ở mỗi cột\n",
    "mins = [df_s[col].min() for col in df_s.columns]\n",
    "mins"
   ]
  },
  {
   "cell_type": "code",
   "execution_count": 16,
   "id": "8da76918",
   "metadata": {},
   "outputs": [
    {
     "data": {
      "text/plain": [
       "[0.7508677714263012,\n",
       " 5.312643318110875,\n",
       " 2.465915503153664,\n",
       " 2.5729034621861846,\n",
       " 0.7426702821524456,\n",
       " 3.081455563847249]"
      ]
     },
     "execution_count": 16,
     "metadata": {},
     "output_type": "execute_result"
    }
   ],
   "source": [
    "# lấy giá trị max ở mỗi cột\n",
    "maxs = [df_s[col].max() for col in df_s.columns]\n",
    "maxs"
   ]
  },
  {
   "cell_type": "code",
   "execution_count": 17,
   "id": "258ecef3",
   "metadata": {},
   "outputs": [
    {
     "data": {
      "text/plain": [
       "array([ 5.19626858e+01,  7.35963947e+00,  1.00098253e+01,  9.96309339e+00,\n",
       "       -1.58793659e+00,  9.99533707e+05])"
      ]
     },
     "execution_count": 17,
     "metadata": {},
     "output_type": "execute_result"
    }
   ],
   "source": [
    "# giá trị trung vị của các đặc trưng của tập dữ liệu gốc\n",
    "scaler.center_"
   ]
  }
 ],
 "metadata": {
  "kernelspec": {
   "display_name": "Python 3 (ipykernel)",
   "language": "python",
   "name": "python3"
  },
  "language_info": {
   "codemirror_mode": {
    "name": "ipython",
    "version": 3
   },
   "file_extension": ".py",
   "mimetype": "text/x-python",
   "name": "python",
   "nbconvert_exporter": "python",
   "pygments_lexer": "ipython3",
   "version": "3.9.12"
  }
 },
 "nbformat": 4,
 "nbformat_minor": 5
}
