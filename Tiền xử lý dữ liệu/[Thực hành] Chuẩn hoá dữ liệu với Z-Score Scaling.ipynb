{
 "cells": [
  {
   "cell_type": "code",
   "execution_count": 1,
   "id": "c6e218b0",
   "metadata": {},
   "outputs": [],
   "source": [
    "import pandas as pd\n",
    "import numpy as np\n",
    "import matplotlib.pyplot as plt\n",
    "import seaborn as sns\n",
    "from sklearn.preprocessing import StandardScaler"
   ]
  },
  {
   "cell_type": "code",
   "execution_count": 3,
   "id": "85838039",
   "metadata": {},
   "outputs": [],
   "source": [
    "# tạo các cột theo các phần phối khác nhau\n",
    "df = pd.DataFrame({ \n",
    "    'beta': np.random.beta(5, 1, 1000) * 60,        # beta\n",
    "    'exponential': np.random.exponential(10, 1000), # exponential\n",
    "    'normal_p': np.random.normal(10, 2, 1000),      # normal platykurtic\n",
    "    'normal_l': np.random.normal(10, 10, 1000),     # normal leptokurtic\n",
    "})"
   ]
  },
  {
   "cell_type": "code",
   "execution_count": 4,
   "id": "f3e1c302",
   "metadata": {},
   "outputs": [],
   "source": [
    "# thêm dữ liệu được tạo theo phân phối nhị thức\n",
    "first_half = np.random.normal(20, 3, 500) \n",
    "second_half = np.random.normal(-20, 3, 500) \n",
    "bimodal = np.concatenate([first_half, second_half])\n",
    "\n",
    "df['bimodal'] = bimodal"
   ]
  },
  {
   "cell_type": "code",
   "execution_count": 7,
   "id": "4f0af2ba",
   "metadata": {},
   "outputs": [
    {
     "data": {
      "text/html": [
       "<div>\n",
       "<style scoped>\n",
       "    .dataframe tbody tr th:only-of-type {\n",
       "        vertical-align: middle;\n",
       "    }\n",
       "\n",
       "    .dataframe tbody tr th {\n",
       "        vertical-align: top;\n",
       "    }\n",
       "\n",
       "    .dataframe thead th {\n",
       "        text-align: right;\n",
       "    }\n",
       "</style>\n",
       "<table border=\"1\" class=\"dataframe\">\n",
       "  <thead>\n",
       "    <tr style=\"text-align: right;\">\n",
       "      <th></th>\n",
       "      <th>beta</th>\n",
       "      <th>exponential</th>\n",
       "      <th>normal_p</th>\n",
       "      <th>normal_l</th>\n",
       "      <th>bimodal</th>\n",
       "    </tr>\n",
       "  </thead>\n",
       "  <tbody>\n",
       "    <tr>\n",
       "      <th>0</th>\n",
       "      <td>54.212924</td>\n",
       "      <td>10.284468</td>\n",
       "      <td>13.179986</td>\n",
       "      <td>16.977981</td>\n",
       "      <td>17.739949</td>\n",
       "    </tr>\n",
       "    <tr>\n",
       "      <th>1</th>\n",
       "      <td>23.003309</td>\n",
       "      <td>20.711063</td>\n",
       "      <td>8.381431</td>\n",
       "      <td>14.947655</td>\n",
       "      <td>21.471227</td>\n",
       "    </tr>\n",
       "    <tr>\n",
       "      <th>2</th>\n",
       "      <td>57.293136</td>\n",
       "      <td>6.243873</td>\n",
       "      <td>12.014677</td>\n",
       "      <td>4.445895</td>\n",
       "      <td>20.330598</td>\n",
       "    </tr>\n",
       "    <tr>\n",
       "      <th>3</th>\n",
       "      <td>42.037019</td>\n",
       "      <td>2.769208</td>\n",
       "      <td>6.827768</td>\n",
       "      <td>17.742357</td>\n",
       "      <td>22.816686</td>\n",
       "    </tr>\n",
       "    <tr>\n",
       "      <th>4</th>\n",
       "      <td>51.724803</td>\n",
       "      <td>11.677246</td>\n",
       "      <td>11.399271</td>\n",
       "      <td>16.936528</td>\n",
       "      <td>27.887277</td>\n",
       "    </tr>\n",
       "  </tbody>\n",
       "</table>\n",
       "</div>"
      ],
      "text/plain": [
       "        beta  exponential   normal_p   normal_l    bimodal\n",
       "0  54.212924    10.284468  13.179986  16.977981  17.739949\n",
       "1  23.003309    20.711063   8.381431  14.947655  21.471227\n",
       "2  57.293136     6.243873  12.014677   4.445895  20.330598\n",
       "3  42.037019     2.769208   6.827768  17.742357  22.816686\n",
       "4  51.724803    11.677246  11.399271  16.936528  27.887277"
      ]
     },
     "execution_count": 7,
     "metadata": {},
     "output_type": "execute_result"
    }
   ],
   "source": [
    "# hiển thị dữ liệu\n",
    "df.head()"
   ]
  },
  {
   "cell_type": "code",
   "execution_count": 8,
   "id": "3f20742f",
   "metadata": {},
   "outputs": [
    {
     "data": {
      "text/plain": [
       "<AxesSubplot:ylabel='Density'>"
      ]
     },
     "execution_count": 8,
     "metadata": {},
     "output_type": "execute_result"
    },
    {
     "data": {
      "image/png": "[encoded data removed]",
      "text/plain": [
       "<Figure size 432x288 with 1 Axes>"
      ]
     },
     "metadata": {
      "needs_background": "light"
     },
     "output_type": "display_data"
    }
   ],
   "source": [
    "sns.kdeplot(data=df)"
   ]
  },
  {
   "cell_type": "code",
   "execution_count": 9,
   "id": "1b6c57cb",
   "metadata": {},
   "outputs": [
    {
     "data": {
      "text/html": [
       "<div>\n",
       "<style scoped>\n",
       "    .dataframe tbody tr th:only-of-type {\n",
       "        vertical-align: middle;\n",
       "    }\n",
       "\n",
       "    .dataframe tbody tr th {\n",
       "        vertical-align: top;\n",
       "    }\n",
       "\n",
       "    .dataframe thead th {\n",
       "        text-align: right;\n",
       "    }\n",
       "</style>\n",
       "<table border=\"1\" class=\"dataframe\">\n",
       "  <thead>\n",
       "    <tr style=\"text-align: right;\">\n",
       "      <th></th>\n",
       "      <th>beta</th>\n",
       "      <th>exponential</th>\n",
       "      <th>normal_p</th>\n",
       "      <th>normal_l</th>\n",
       "      <th>bimodal</th>\n",
       "    </tr>\n",
       "  </thead>\n",
       "  <tbody>\n",
       "    <tr>\n",
       "      <th>count</th>\n",
       "      <td>1000.000000</td>\n",
       "      <td>1000.000000</td>\n",
       "      <td>1000.000000</td>\n",
       "      <td>1000.000000</td>\n",
       "      <td>1000.000000</td>\n",
       "    </tr>\n",
       "    <tr>\n",
       "      <th>mean</th>\n",
       "      <td>49.849238</td>\n",
       "      <td>10.407608</td>\n",
       "      <td>10.091341</td>\n",
       "      <td>10.109100</td>\n",
       "      <td>0.011365</td>\n",
       "    </tr>\n",
       "    <tr>\n",
       "      <th>std</th>\n",
       "      <td>8.474864</td>\n",
       "      <td>10.405661</td>\n",
       "      <td>2.092725</td>\n",
       "      <td>10.195100</td>\n",
       "      <td>20.181780</td>\n",
       "    </tr>\n",
       "    <tr>\n",
       "      <th>min</th>\n",
       "      <td>15.078654</td>\n",
       "      <td>0.001718</td>\n",
       "      <td>3.301473</td>\n",
       "      <td>-20.068263</td>\n",
       "      <td>-28.494019</td>\n",
       "    </tr>\n",
       "    <tr>\n",
       "      <th>25%</th>\n",
       "      <td>45.856057</td>\n",
       "      <td>2.997872</td>\n",
       "      <td>8.685748</td>\n",
       "      <td>3.109211</td>\n",
       "      <td>-19.910803</td>\n",
       "    </tr>\n",
       "    <tr>\n",
       "      <th>50%</th>\n",
       "      <td>52.074304</td>\n",
       "      <td>7.223373</td>\n",
       "      <td>10.136454</td>\n",
       "      <td>10.148924</td>\n",
       "      <td>0.099640</td>\n",
       "    </tr>\n",
       "    <tr>\n",
       "      <th>75%</th>\n",
       "      <td>56.308541</td>\n",
       "      <td>14.372531</td>\n",
       "      <td>11.586947</td>\n",
       "      <td>16.728794</td>\n",
       "      <td>20.051856</td>\n",
       "    </tr>\n",
       "    <tr>\n",
       "      <th>max</th>\n",
       "      <td>59.993532</td>\n",
       "      <td>87.565059</td>\n",
       "      <td>18.085198</td>\n",
       "      <td>43.678262</td>\n",
       "      <td>28.428869</td>\n",
       "    </tr>\n",
       "  </tbody>\n",
       "</table>\n",
       "</div>"
      ],
      "text/plain": [
       "              beta  exponential     normal_p     normal_l      bimodal\n",
       "count  1000.000000  1000.000000  1000.000000  1000.000000  1000.000000\n",
       "mean     49.849238    10.407608    10.091341    10.109100     0.011365\n",
       "std       8.474864    10.405661     2.092725    10.195100    20.181780\n",
       "min      15.078654     0.001718     3.301473   -20.068263   -28.494019\n",
       "25%      45.856057     2.997872     8.685748     3.109211   -19.910803\n",
       "50%      52.074304     7.223373    10.136454    10.148924     0.099640\n",
       "75%      56.308541    14.372531    11.586947    16.728794    20.051856\n",
       "max      59.993532    87.565059    18.085198    43.678262    28.428869"
      ]
     },
     "execution_count": 9,
     "metadata": {},
     "output_type": "execute_result"
    }
   ],
   "source": [
    "df.describe()"
   ]
  },
  {
   "cell_type": "code",
   "execution_count": 10,
   "id": "95bcaf4f",
   "metadata": {},
   "outputs": [
    {
     "data": {
      "text/plain": [
       "<AxesSubplot:ylabel='Density'>"
      ]
     },
     "execution_count": 10,
     "metadata": {},
     "output_type": "execute_result"
    },
    {
     "data": {
      "image/png": "[encoded data removed]",
      "text/plain": [
       "<Figure size 432x288 with 1 Axes>"
      ]
     },
     "metadata": {
      "needs_background": "light"
     },
     "output_type": "display_data"
    }
   ],
   "source": [
    "normal_big = np.random.normal(1000000, 10000, (1000,1))  # normal distribution of large values\n",
    "df['normal_big'] = normal_big\n",
    "sns.kdeplot(data=df)"
   ]
  },
  {
   "cell_type": "code",
   "execution_count": 11,
   "id": "4905b900",
   "metadata": {},
   "outputs": [
    {
     "data": {
      "text/plain": [
       "<AxesSubplot:>"
      ]
     },
     "execution_count": 11,
     "metadata": {},
     "output_type": "execute_result"
    },
    {
     "data": {
      "image/png": "[encoded data removed]",
      "text/plain": [
       "<Figure size 432x288 with 1 Axes>"
      ]
     },
     "metadata": {
      "needs_background": "light"
     },
     "output_type": "display_data"
    }
   ],
   "source": [
    "# trực quan hóa bằng biểu đồ box plot\n",
    "df.boxplot()"
   ]
  },
  {
   "cell_type": "code",
   "execution_count": 12,
   "id": "3fa60370",
   "metadata": {},
   "outputs": [],
   "source": [
    "# Khai báo đối tượng StandardScaler\n",
    "s_scaler = StandardScaler()"
   ]
  },
  {
   "cell_type": "code",
   "execution_count": 13,
   "id": "fa4a88fd",
   "metadata": {},
   "outputs": [],
   "source": [
    "# Chuẩn hóa dữ liệu trong df với StandardScaler\n",
    "df_s = s_scaler.fit_transform(df)\n",
    "\n",
    "# lấy danh sáchc cột\n",
    "col_names = list(df.columns)\n",
    "\n",
    "# chuyển về DataFrame, gán các cột của df cho dữ liệu đã được chuẩn hóa\n",
    "df_s = pd.DataFrame(df_s, columns=col_names)"
   ]
  },
  {
   "cell_type": "code",
   "execution_count": 14,
   "id": "ca3c579a",
   "metadata": {},
   "outputs": [
    {
     "data": {
      "text/html": [
       "<div>\n",
       "<style scoped>\n",
       "    .dataframe tbody tr th:only-of-type {\n",
       "        vertical-align: middle;\n",
       "    }\n",
       "\n",
       "    .dataframe tbody tr th {\n",
       "        vertical-align: top;\n",
       "    }\n",
       "\n",
       "    .dataframe thead th {\n",
       "        text-align: right;\n",
       "    }\n",
       "</style>\n",
       "<table border=\"1\" class=\"dataframe\">\n",
       "  <thead>\n",
       "    <tr style=\"text-align: right;\">\n",
       "      <th></th>\n",
       "      <th>beta</th>\n",
       "      <th>exponential</th>\n",
       "      <th>normal_p</th>\n",
       "      <th>normal_l</th>\n",
       "      <th>bimodal</th>\n",
       "      <th>normal_big</th>\n",
       "    </tr>\n",
       "  </thead>\n",
       "  <tbody>\n",
       "    <tr>\n",
       "      <th>0</th>\n",
       "      <td>0.515155</td>\n",
       "      <td>-0.011840</td>\n",
       "      <td>1.476635</td>\n",
       "      <td>0.674080</td>\n",
       "      <td>0.878885</td>\n",
       "      <td>-2.053444</td>\n",
       "    </tr>\n",
       "    <tr>\n",
       "      <th>1</th>\n",
       "      <td>-3.169297</td>\n",
       "      <td>0.990673</td>\n",
       "      <td>-0.817482</td>\n",
       "      <td>0.474834</td>\n",
       "      <td>1.063861</td>\n",
       "      <td>-0.897523</td>\n",
       "    </tr>\n",
       "    <tr>\n",
       "      <th>2</th>\n",
       "      <td>0.878790</td>\n",
       "      <td>-0.400341</td>\n",
       "      <td>0.919518</td>\n",
       "      <td>-0.555761</td>\n",
       "      <td>1.007315</td>\n",
       "      <td>-0.371415</td>\n",
       "    </tr>\n",
       "    <tr>\n",
       "      <th>3</th>\n",
       "      <td>-0.922272</td>\n",
       "      <td>-0.734429</td>\n",
       "      <td>-1.560265</td>\n",
       "      <td>0.749093</td>\n",
       "      <td>1.130561</td>\n",
       "      <td>0.243482</td>\n",
       "    </tr>\n",
       "    <tr>\n",
       "      <th>4</th>\n",
       "      <td>0.221420</td>\n",
       "      <td>0.122075</td>\n",
       "      <td>0.625301</td>\n",
       "      <td>0.670012</td>\n",
       "      <td>1.381933</td>\n",
       "      <td>-1.677878</td>\n",
       "    </tr>\n",
       "  </tbody>\n",
       "</table>\n",
       "</div>"
      ],
      "text/plain": [
       "       beta  exponential  normal_p  normal_l   bimodal  normal_big\n",
       "0  0.515155    -0.011840  1.476635  0.674080  0.878885   -2.053444\n",
       "1 -3.169297     0.990673 -0.817482  0.474834  1.063861   -0.897523\n",
       "2  0.878790    -0.400341  0.919518 -0.555761  1.007315   -0.371415\n",
       "3 -0.922272    -0.734429 -1.560265  0.749093  1.130561    0.243482\n",
       "4  0.221420     0.122075  0.625301  0.670012  1.381933   -1.677878"
      ]
     },
     "execution_count": 14,
     "metadata": {},
     "output_type": "execute_result"
    }
   ],
   "source": [
    "df_s.head()"
   ]
  },
  {
   "cell_type": "code",
   "execution_count": 15,
   "id": "365ea85e",
   "metadata": {},
   "outputs": [
    {
     "data": {
      "text/plain": [
       "<AxesSubplot:ylabel='Density'>"
      ]
     },
     "execution_count": 15,
     "metadata": {},
     "output_type": "execute_result"
    },
    {
     "data": {
      "image/png": "[encoded data removed]",
      "text/plain": [
       "<Figure size 432x288 with 1 Axes>"
      ]
     },
     "metadata": {
      "needs_background": "light"
     },
     "output_type": "display_data"
    }
   ],
   "source": [
    "# biểu diễn dữ liệu đã được chuẩn hóa\n",
    "sns.kdeplot(data=df_s)"
   ]
  },
  {
   "cell_type": "code",
   "execution_count": 16,
   "id": "0cb50324",
   "metadata": {},
   "outputs": [
    {
     "data": {
      "text/html": [
       "<div>\n",
       "<style scoped>\n",
       "    .dataframe tbody tr th:only-of-type {\n",
       "        vertical-align: middle;\n",
       "    }\n",
       "\n",
       "    .dataframe tbody tr th {\n",
       "        vertical-align: top;\n",
       "    }\n",
       "\n",
       "    .dataframe thead th {\n",
       "        text-align: right;\n",
       "    }\n",
       "</style>\n",
       "<table border=\"1\" class=\"dataframe\">\n",
       "  <thead>\n",
       "    <tr style=\"text-align: right;\">\n",
       "      <th></th>\n",
       "      <th>beta</th>\n",
       "      <th>exponential</th>\n",
       "      <th>normal_p</th>\n",
       "      <th>normal_l</th>\n",
       "      <th>bimodal</th>\n",
       "      <th>normal_big</th>\n",
       "    </tr>\n",
       "  </thead>\n",
       "  <tbody>\n",
       "    <tr>\n",
       "      <th>count</th>\n",
       "      <td>1.000000e+03</td>\n",
       "      <td>1.000000e+03</td>\n",
       "      <td>1.000000e+03</td>\n",
       "      <td>1.000000e+03</td>\n",
       "      <td>1.000000e+03</td>\n",
       "      <td>1.000000e+03</td>\n",
       "    </tr>\n",
       "    <tr>\n",
       "      <th>mean</th>\n",
       "      <td>4.862777e-17</td>\n",
       "      <td>-6.217249e-18</td>\n",
       "      <td>2.648992e-16</td>\n",
       "      <td>-1.196543e-16</td>\n",
       "      <td>-1.820766e-17</td>\n",
       "      <td>2.313705e-16</td>\n",
       "    </tr>\n",
       "    <tr>\n",
       "      <th>std</th>\n",
       "      <td>1.000500e+00</td>\n",
       "      <td>1.000500e+00</td>\n",
       "      <td>1.000500e+00</td>\n",
       "      <td>1.000500e+00</td>\n",
       "      <td>1.000500e+00</td>\n",
       "      <td>1.000500e+00</td>\n",
       "    </tr>\n",
       "    <tr>\n",
       "      <th>min</th>\n",
       "      <td>-4.104843e+00</td>\n",
       "      <td>-1.000522e+00</td>\n",
       "      <td>-3.246133e+00</td>\n",
       "      <td>-2.961468e+00</td>\n",
       "      <td>-1.413138e+00</td>\n",
       "      <td>-3.189394e+00</td>\n",
       "    </tr>\n",
       "    <tr>\n",
       "      <th>25%</th>\n",
       "      <td>-4.714152e-01</td>\n",
       "      <td>-7.124433e-01</td>\n",
       "      <td>-6.719924e-01</td>\n",
       "      <td>-6.869370e-01</td>\n",
       "      <td>-9.876302e-01</td>\n",
       "      <td>-6.732249e-01</td>\n",
       "    </tr>\n",
       "    <tr>\n",
       "      <th>50%</th>\n",
       "      <td>2.626803e-01</td>\n",
       "      <td>-3.061630e-01</td>\n",
       "      <td>2.156776e-02</td>\n",
       "      <td>3.908174e-03</td>\n",
       "      <td>4.376222e-03</td>\n",
       "      <td>1.277975e-02</td>\n",
       "    </tr>\n",
       "    <tr>\n",
       "      <th>75%</th>\n",
       "      <td>7.625532e-01</td>\n",
       "      <td>3.812259e-01</td>\n",
       "      <td>7.150268e-01</td>\n",
       "      <td>6.496264e-01</td>\n",
       "      <td>9.934961e-01</td>\n",
       "      <td>6.961700e-01</td>\n",
       "    </tr>\n",
       "    <tr>\n",
       "      <th>max</th>\n",
       "      <td>1.197585e+00</td>\n",
       "      <td>7.418660e+00</td>\n",
       "      <td>3.821742e+00</td>\n",
       "      <td>3.294324e+00</td>\n",
       "      <td>1.408782e+00</td>\n",
       "      <td>3.241601e+00</td>\n",
       "    </tr>\n",
       "  </tbody>\n",
       "</table>\n",
       "</div>"
      ],
      "text/plain": [
       "               beta   exponential      normal_p      normal_l       bimodal  \\\n",
       "count  1.000000e+03  1.000000e+03  1.000000e+03  1.000000e+03  1.000000e+03   \n",
       "mean   4.862777e-17 -6.217249e-18  2.648992e-16 -1.196543e-16 -1.820766e-17   \n",
       "std    1.000500e+00  1.000500e+00  1.000500e+00  1.000500e+00  1.000500e+00   \n",
       "min   -4.104843e+00 -1.000522e+00 -3.246133e+00 -2.961468e+00 -1.413138e+00   \n",
       "25%   -4.714152e-01 -7.124433e-01 -6.719924e-01 -6.869370e-01 -9.876302e-01   \n",
       "50%    2.626803e-01 -3.061630e-01  2.156776e-02  3.908174e-03  4.376222e-03   \n",
       "75%    7.625532e-01  3.812259e-01  7.150268e-01  6.496264e-01  9.934961e-01   \n",
       "max    1.197585e+00  7.418660e+00  3.821742e+00  3.294324e+00  1.408782e+00   \n",
       "\n",
       "         normal_big  \n",
       "count  1.000000e+03  \n",
       "mean   2.313705e-16  \n",
       "std    1.000500e+00  \n",
       "min   -3.189394e+00  \n",
       "25%   -6.732249e-01  \n",
       "50%    1.277975e-02  \n",
       "75%    6.961700e-01  \n",
       "max    3.241601e+00  "
      ]
     },
     "execution_count": 16,
     "metadata": {},
     "output_type": "execute_result"
    }
   ],
   "source": [
    "df_s.describe()"
   ]
  },
  {
   "cell_type": "code",
   "execution_count": 17,
   "id": "0a5bf317",
   "metadata": {},
   "outputs": [
    {
     "data": {
      "text/plain": [
       "<AxesSubplot:>"
      ]
     },
     "execution_count": 17,
     "metadata": {},
     "output_type": "execute_result"
    },
    {
     "data": {
      "image/png": "[encoded data removed]",
      "text/plain": [
       "<Figure size 432x288 with 1 Axes>"
      ]
     },
     "metadata": {
      "needs_background": "light"
     },
     "output_type": "display_data"
    }
   ],
   "source": [
    "# trực quan hóa bằng biểu đồ box plot\n",
    "df_s.boxplot()"
   ]
  },
  {
   "cell_type": "code",
   "execution_count": null,
   "id": "3b22f2c0",
   "metadata": {},
   "outputs": [],
   "source": []
  }
 ],
 "metadata": {
  "kernelspec": {
   "display_name": "Python 3 (ipykernel)",
   "language": "python",
   "name": "python3"
  },
  "language_info": {
   "codemirror_mode": {
    "name": "ipython",
    "version": 3
   },
   "file_extension": ".py",
   "mimetype": "text/x-python",
   "name": "python",
   "nbconvert_exporter": "python",
   "pygments_lexer": "ipython3",
   "version": "3.9.12"
  }
 },
 "nbformat": 4,
 "nbformat_minor": 5
}
