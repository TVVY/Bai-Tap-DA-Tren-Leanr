{
 "cells": [
  {
   "cell_type": "code",
   "execution_count": 1,
   "id": "54160240",
   "metadata": {},
   "outputs": [],
   "source": [
    "import pandas as pd\n",
    "import numpy as np\n",
    "import matplotlib.pyplot as plt\n",
    "import seaborn as sns\n",
    "from sklearn.preprocessing import RobustScaler"
   ]
  },
  {
   "cell_type": "code",
   "execution_count": 2,
   "id": "d689aaa3",
   "metadata": {},
   "outputs": [],
   "source": [
    "# tạo các cột theo các phần phối khác nhau\n",
    "df = pd.DataFrame({ \n",
    "    'beta': np.random.beta(5, 1, 1000) * 60,        # beta\n",
    "    'exponential': np.random.exponential(10, 1000), # exponential\n",
    "    'normal_p': np.random.normal(10, 2, 1000),      # normal platykurtic\n",
    "    'normal_l': np.random.normal(10, 10, 1000),     # normal leptokurtic\n",
    "})"
   ]
  },
  {
   "cell_type": "code",
   "execution_count": 3,
   "id": "d4d9653c",
   "metadata": {},
   "outputs": [],
   "source": [
    "# thêm dữ liệu được tạo theo phân phối nhị thức\n",
    "first_half = np.random.normal(20, 3, 500) \n",
    "second_half = np.random.normal(-20, 3, 500) \n",
    "bimodal = np.concatenate([first_half, second_half])\n",
    "\n",
    "df['bimodal'] = bimodal"
   ]
  },
  {
   "cell_type": "code",
   "execution_count": 4,
   "id": "efc0a2f7",
   "metadata": {},
   "outputs": [
    {
     "data": {
      "text/html": [
       "<div>\n",
       "<style scoped>\n",
       "    .dataframe tbody tr th:only-of-type {\n",
       "        vertical-align: middle;\n",
       "    }\n",
       "\n",
       "    .dataframe tbody tr th {\n",
       "        vertical-align: top;\n",
       "    }\n",
       "\n",
       "    .dataframe thead th {\n",
       "        text-align: right;\n",
       "    }\n",
       "</style>\n",
       "<table border=\"1\" class=\"dataframe\">\n",
       "  <thead>\n",
       "    <tr style=\"text-align: right;\">\n",
       "      <th></th>\n",
       "      <th>beta</th>\n",
       "      <th>exponential</th>\n",
       "      <th>normal_p</th>\n",
       "      <th>normal_l</th>\n",
       "      <th>bimodal</th>\n",
       "    </tr>\n",
       "  </thead>\n",
       "  <tbody>\n",
       "    <tr>\n",
       "      <th>0</th>\n",
       "      <td>53.394982</td>\n",
       "      <td>1.892940</td>\n",
       "      <td>10.248586</td>\n",
       "      <td>8.144072</td>\n",
       "      <td>19.823457</td>\n",
       "    </tr>\n",
       "    <tr>\n",
       "      <th>1</th>\n",
       "      <td>59.361052</td>\n",
       "      <td>0.197938</td>\n",
       "      <td>8.559380</td>\n",
       "      <td>-3.356286</td>\n",
       "      <td>20.710954</td>\n",
       "    </tr>\n",
       "    <tr>\n",
       "      <th>2</th>\n",
       "      <td>58.604829</td>\n",
       "      <td>9.718193</td>\n",
       "      <td>7.720400</td>\n",
       "      <td>-2.634691</td>\n",
       "      <td>19.311045</td>\n",
       "    </tr>\n",
       "    <tr>\n",
       "      <th>3</th>\n",
       "      <td>58.459126</td>\n",
       "      <td>1.932953</td>\n",
       "      <td>9.004993</td>\n",
       "      <td>-6.507025</td>\n",
       "      <td>23.459870</td>\n",
       "    </tr>\n",
       "    <tr>\n",
       "      <th>4</th>\n",
       "      <td>50.626328</td>\n",
       "      <td>12.911178</td>\n",
       "      <td>11.295614</td>\n",
       "      <td>10.996670</td>\n",
       "      <td>16.262913</td>\n",
       "    </tr>\n",
       "  </tbody>\n",
       "</table>\n",
       "</div>"
      ],
      "text/plain": [
       "        beta  exponential   normal_p   normal_l    bimodal\n",
       "0  53.394982     1.892940  10.248586   8.144072  19.823457\n",
       "1  59.361052     0.197938   8.559380  -3.356286  20.710954\n",
       "2  58.604829     9.718193   7.720400  -2.634691  19.311045\n",
       "3  58.459126     1.932953   9.004993  -6.507025  23.459870\n",
       "4  50.626328    12.911178  11.295614  10.996670  16.262913"
      ]
     },
     "execution_count": 4,
     "metadata": {},
     "output_type": "execute_result"
    }
   ],
   "source": [
    "# hiển thị dữ liệu\n",
    "df.head()"
   ]
  },
  {
   "cell_type": "code",
   "execution_count": 5,
   "id": "77d98c5e",
   "metadata": {},
   "outputs": [
    {
     "data": {
      "text/plain": [
       "<AxesSubplot:ylabel='Density'>"
      ]
     },
     "execution_count": 5,
     "metadata": {},
     "output_type": "execute_result"
    },
    {
     "data": {
      "image/png": "[encoded data removed]",
      "text/plain": [
       "<Figure size 432x288 with 1 Axes>"
      ]
     },
     "metadata": {
      "needs_background": "light"
     },
     "output_type": "display_data"
    }
   ],
   "source": [
    "sns.kdeplot(data=df)"
   ]
  },
  {
   "cell_type": "code",
   "execution_count": 6,
   "id": "ed76f608",
   "metadata": {},
   "outputs": [
    {
     "data": {
      "text/html": [
       "<div>\n",
       "<style scoped>\n",
       "    .dataframe tbody tr th:only-of-type {\n",
       "        vertical-align: middle;\n",
       "    }\n",
       "\n",
       "    .dataframe tbody tr th {\n",
       "        vertical-align: top;\n",
       "    }\n",
       "\n",
       "    .dataframe thead th {\n",
       "        text-align: right;\n",
       "    }\n",
       "</style>\n",
       "<table border=\"1\" class=\"dataframe\">\n",
       "  <thead>\n",
       "    <tr style=\"text-align: right;\">\n",
       "      <th></th>\n",
       "      <th>beta</th>\n",
       "      <th>exponential</th>\n",
       "      <th>normal_p</th>\n",
       "      <th>normal_l</th>\n",
       "      <th>bimodal</th>\n",
       "    </tr>\n",
       "  </thead>\n",
       "  <tbody>\n",
       "    <tr>\n",
       "      <th>count</th>\n",
       "      <td>1000.000000</td>\n",
       "      <td>1000.000000</td>\n",
       "      <td>1000.000000</td>\n",
       "      <td>1000.000000</td>\n",
       "      <td>1000.000000</td>\n",
       "    </tr>\n",
       "    <tr>\n",
       "      <th>mean</th>\n",
       "      <td>50.227967</td>\n",
       "      <td>10.391566</td>\n",
       "      <td>10.027546</td>\n",
       "      <td>10.430394</td>\n",
       "      <td>-0.014266</td>\n",
       "    </tr>\n",
       "    <tr>\n",
       "      <th>std</th>\n",
       "      <td>8.450789</td>\n",
       "      <td>10.260420</td>\n",
       "      <td>1.950905</td>\n",
       "      <td>9.737108</td>\n",
       "      <td>20.166411</td>\n",
       "    </tr>\n",
       "    <tr>\n",
       "      <th>min</th>\n",
       "      <td>16.104644</td>\n",
       "      <td>0.035442</td>\n",
       "      <td>2.728657</td>\n",
       "      <td>-19.689309</td>\n",
       "      <td>-28.744088</td>\n",
       "    </tr>\n",
       "    <tr>\n",
       "      <th>25%</th>\n",
       "      <td>45.756608</td>\n",
       "      <td>2.922052</td>\n",
       "      <td>8.717953</td>\n",
       "      <td>4.219911</td>\n",
       "      <td>-19.910318</td>\n",
       "    </tr>\n",
       "    <tr>\n",
       "      <th>50%</th>\n",
       "      <td>52.562209</td>\n",
       "      <td>7.281240</td>\n",
       "      <td>10.019975</td>\n",
       "      <td>10.528624</td>\n",
       "      <td>0.159476</td>\n",
       "    </tr>\n",
       "    <tr>\n",
       "      <th>75%</th>\n",
       "      <td>56.767477</td>\n",
       "      <td>14.805821</td>\n",
       "      <td>11.311303</td>\n",
       "      <td>17.014212</td>\n",
       "      <td>19.905373</td>\n",
       "    </tr>\n",
       "    <tr>\n",
       "      <th>max</th>\n",
       "      <td>59.995435</td>\n",
       "      <td>73.755139</td>\n",
       "      <td>17.220406</td>\n",
       "      <td>43.705547</td>\n",
       "      <td>31.275594</td>\n",
       "    </tr>\n",
       "  </tbody>\n",
       "</table>\n",
       "</div>"
      ],
      "text/plain": [
       "              beta  exponential     normal_p     normal_l      bimodal\n",
       "count  1000.000000  1000.000000  1000.000000  1000.000000  1000.000000\n",
       "mean     50.227967    10.391566    10.027546    10.430394    -0.014266\n",
       "std       8.450789    10.260420     1.950905     9.737108    20.166411\n",
       "min      16.104644     0.035442     2.728657   -19.689309   -28.744088\n",
       "25%      45.756608     2.922052     8.717953     4.219911   -19.910318\n",
       "50%      52.562209     7.281240    10.019975    10.528624     0.159476\n",
       "75%      56.767477    14.805821    11.311303    17.014212    19.905373\n",
       "max      59.995435    73.755139    17.220406    43.705547    31.275594"
      ]
     },
     "execution_count": 6,
     "metadata": {},
     "output_type": "execute_result"
    }
   ],
   "source": [
    "df.describe()"
   ]
  },
  {
   "cell_type": "code",
   "execution_count": 7,
   "id": "dfe7e108",
   "metadata": {},
   "outputs": [
    {
     "data": {
      "text/plain": [
       "<AxesSubplot:ylabel='Density'>"
      ]
     },
     "execution_count": 7,
     "metadata": {},
     "output_type": "execute_result"
    },
    {
     "data": {
      "image/png": "[encoded data removed]",
      "text/plain": [
       "<Figure size 432x288 with 1 Axes>"
      ]
     },
     "metadata": {
      "needs_background": "light"
     },
     "output_type": "display_data"
    }
   ],
   "source": [
    "normal_big = np.random.normal(1000000, 10000, (1000,1))  # normal distribution of large values\n",
    "df['normal_big'] = normal_big\n",
    "sns.kdeplot(data=df)"
   ]
  },
  {
   "cell_type": "code",
   "execution_count": 8,
   "id": "9e5d219e",
   "metadata": {},
   "outputs": [
    {
     "data": {
      "text/plain": [
       "<AxesSubplot:>"
      ]
     },
     "execution_count": 8,
     "metadata": {},
     "output_type": "execute_result"
    },
    {
     "data": {
      "image/png": "[encoded data removed]",
      "text/plain": [
       "<Figure size 432x288 with 1 Axes>"
      ]
     },
     "metadata": {
      "needs_background": "light"
     },
     "output_type": "display_data"
    }
   ],
   "source": [
    "# trực quan hóa bằng biểu đồ box plot\n",
    "df.boxplot()"
   ]
  },
  {
   "cell_type": "code",
   "execution_count": 9,
   "id": "8c5b734c",
   "metadata": {},
   "outputs": [],
   "source": [
    "# Khai báo đối tượng RobustScaler\n",
    "scaler = RobustScaler()"
   ]
  },
  {
   "cell_type": "code",
   "execution_count": 10,
   "id": "1db94d44",
   "metadata": {},
   "outputs": [],
   "source": [
    "# Chuẩn hóa dữ liệu trong df với StandardScaler\n",
    "df_s = scaler.fit_transform(df)\n",
    "\n",
    "# lấy danh sáchc cột\n",
    "col_names = list(df.columns)\n",
    "\n",
    "# chuyển về DataFrame, gán các cột của df cho dữ liệu đã được chuẩn hóa\n",
    "df_s = pd.DataFrame(df_s, columns=col_names)"
   ]
  },
  {
   "cell_type": "code",
   "execution_count": 11,
   "id": "866e17c7",
   "metadata": {},
   "outputs": [
    {
     "data": {
      "text/html": [
       "<div>\n",
       "<style scoped>\n",
       "    .dataframe tbody tr th:only-of-type {\n",
       "        vertical-align: middle;\n",
       "    }\n",
       "\n",
       "    .dataframe tbody tr th {\n",
       "        vertical-align: top;\n",
       "    }\n",
       "\n",
       "    .dataframe thead th {\n",
       "        text-align: right;\n",
       "    }\n",
       "</style>\n",
       "<table border=\"1\" class=\"dataframe\">\n",
       "  <thead>\n",
       "    <tr style=\"text-align: right;\">\n",
       "      <th></th>\n",
       "      <th>beta</th>\n",
       "      <th>exponential</th>\n",
       "      <th>normal_p</th>\n",
       "      <th>normal_l</th>\n",
       "      <th>bimodal</th>\n",
       "      <th>normal_big</th>\n",
       "    </tr>\n",
       "  </thead>\n",
       "  <tbody>\n",
       "    <tr>\n",
       "      <th>0</th>\n",
       "      <td>0.075632</td>\n",
       "      <td>-0.453417</td>\n",
       "      <td>0.088153</td>\n",
       "      <td>-0.186376</td>\n",
       "      <td>0.493875</td>\n",
       "      <td>-0.152800</td>\n",
       "    </tr>\n",
       "    <tr>\n",
       "      <th>1</th>\n",
       "      <td>0.617467</td>\n",
       "      <td>-0.596048</td>\n",
       "      <td>-0.563208</td>\n",
       "      <td>-1.085242</td>\n",
       "      <td>0.516165</td>\n",
       "      <td>-0.520328</td>\n",
       "    </tr>\n",
       "    <tr>\n",
       "      <th>2</th>\n",
       "      <td>0.548787</td>\n",
       "      <td>0.205066</td>\n",
       "      <td>-0.886720</td>\n",
       "      <td>-1.028842</td>\n",
       "      <td>0.481006</td>\n",
       "      <td>-0.570848</td>\n",
       "    </tr>\n",
       "    <tr>\n",
       "      <th>3</th>\n",
       "      <td>0.535554</td>\n",
       "      <td>-0.450050</td>\n",
       "      <td>-0.391379</td>\n",
       "      <td>-1.331503</td>\n",
       "      <td>0.585206</td>\n",
       "      <td>-0.125911</td>\n",
       "    </tr>\n",
       "    <tr>\n",
       "      <th>4</th>\n",
       "      <td>-0.175815</td>\n",
       "      <td>0.473750</td>\n",
       "      <td>0.491889</td>\n",
       "      <td>0.036582</td>\n",
       "      <td>0.404449</td>\n",
       "      <td>-1.478547</td>\n",
       "    </tr>\n",
       "  </tbody>\n",
       "</table>\n",
       "</div>"
      ],
      "text/plain": [
       "       beta  exponential  normal_p  normal_l   bimodal  normal_big\n",
       "0  0.075632    -0.453417  0.088153 -0.186376  0.493875   -0.152800\n",
       "1  0.617467    -0.596048 -0.563208 -1.085242  0.516165   -0.520328\n",
       "2  0.548787     0.205066 -0.886720 -1.028842  0.481006   -0.570848\n",
       "3  0.535554    -0.450050 -0.391379 -1.331503  0.585206   -0.125911\n",
       "4 -0.175815     0.473750  0.491889  0.036582  0.404449   -1.478547"
      ]
     },
     "execution_count": 11,
     "metadata": {},
     "output_type": "execute_result"
    }
   ],
   "source": [
    "df_s.head()"
   ]
  },
  {
   "cell_type": "code",
   "execution_count": 12,
   "id": "162bd450",
   "metadata": {},
   "outputs": [
    {
     "data": {
      "text/plain": [
       "<AxesSubplot:ylabel='Density'>"
      ]
     },
     "execution_count": 12,
     "metadata": {},
     "output_type": "execute_result"
    },
    {
     "data": {
      "image/png": "[encoded data removed]",
      "text/plain": [
       "<Figure size 432x288 with 1 Axes>"
      ]
     },
     "metadata": {
      "needs_background": "light"
     },
     "output_type": "display_data"
    }
   ],
   "source": [
    "# biểu diễn dữ liệu đã được chuẩn hóa\n",
    "sns.kdeplot(data=df_s)"
   ]
  },
  {
   "cell_type": "code",
   "execution_count": 13,
   "id": "c9041ef0",
   "metadata": {},
   "outputs": [
    {
     "data": {
      "text/html": [
       "<div>\n",
       "<style scoped>\n",
       "    .dataframe tbody tr th:only-of-type {\n",
       "        vertical-align: middle;\n",
       "    }\n",
       "\n",
       "    .dataframe tbody tr th {\n",
       "        vertical-align: top;\n",
       "    }\n",
       "\n",
       "    .dataframe thead th {\n",
       "        text-align: right;\n",
       "    }\n",
       "</style>\n",
       "<table border=\"1\" class=\"dataframe\">\n",
       "  <thead>\n",
       "    <tr style=\"text-align: right;\">\n",
       "      <th></th>\n",
       "      <th>beta</th>\n",
       "      <th>exponential</th>\n",
       "      <th>normal_p</th>\n",
       "      <th>normal_l</th>\n",
       "      <th>bimodal</th>\n",
       "      <th>normal_big</th>\n",
       "    </tr>\n",
       "  </thead>\n",
       "  <tbody>\n",
       "    <tr>\n",
       "      <th>count</th>\n",
       "      <td>1.000000e+03</td>\n",
       "      <td>1.000000e+03</td>\n",
       "      <td>1.000000e+03</td>\n",
       "      <td>1000.000000</td>\n",
       "      <td>1000.000000</td>\n",
       "      <td>1000.000000</td>\n",
       "    </tr>\n",
       "    <tr>\n",
       "      <th>mean</th>\n",
       "      <td>-2.119944e-01</td>\n",
       "      <td>2.617289e-01</td>\n",
       "      <td>2.919610e-03</td>\n",
       "      <td>-0.007678</td>\n",
       "      <td>-0.004364</td>\n",
       "      <td>0.013173</td>\n",
       "    </tr>\n",
       "    <tr>\n",
       "      <th>std</th>\n",
       "      <td>7.674951e-01</td>\n",
       "      <td>8.633978e-01</td>\n",
       "      <td>7.522724e-01</td>\n",
       "      <td>0.761050</td>\n",
       "      <td>0.506494</td>\n",
       "      <td>0.728263</td>\n",
       "    </tr>\n",
       "    <tr>\n",
       "      <th>min</th>\n",
       "      <td>-3.311052e+00</td>\n",
       "      <td>-6.097222e-01</td>\n",
       "      <td>-2.811544e+00</td>\n",
       "      <td>-2.361828</td>\n",
       "      <td>-0.725934</td>\n",
       "      <td>-2.342925</td>\n",
       "    </tr>\n",
       "    <tr>\n",
       "      <th>25%</th>\n",
       "      <td>-6.180803e-01</td>\n",
       "      <td>-3.668186e-01</td>\n",
       "      <td>-5.020618e-01</td>\n",
       "      <td>-0.493088</td>\n",
       "      <td>-0.504067</td>\n",
       "      <td>-0.493318</td>\n",
       "    </tr>\n",
       "    <tr>\n",
       "      <th>50%</th>\n",
       "      <td>-3.226586e-16</td>\n",
       "      <td>-3.737787e-17</td>\n",
       "      <td>-3.424995e-16</td>\n",
       "      <td>0.000000</td>\n",
       "      <td>0.000000</td>\n",
       "      <td>0.000000</td>\n",
       "    </tr>\n",
       "    <tr>\n",
       "      <th>75%</th>\n",
       "      <td>3.819197e-01</td>\n",
       "      <td>6.331814e-01</td>\n",
       "      <td>4.979382e-01</td>\n",
       "      <td>0.506912</td>\n",
       "      <td>0.495933</td>\n",
       "      <td>0.506682</td>\n",
       "    </tr>\n",
       "    <tr>\n",
       "      <th>max</th>\n",
       "      <td>6.750807e-01</td>\n",
       "      <td>5.593672e+00</td>\n",
       "      <td>2.776499e+00</td>\n",
       "      <td>2.593102</td>\n",
       "      <td>0.781504</td>\n",
       "      <td>2.525299</td>\n",
       "    </tr>\n",
       "  </tbody>\n",
       "</table>\n",
       "</div>"
      ],
      "text/plain": [
       "               beta   exponential      normal_p     normal_l      bimodal  \\\n",
       "count  1.000000e+03  1.000000e+03  1.000000e+03  1000.000000  1000.000000   \n",
       "mean  -2.119944e-01  2.617289e-01  2.919610e-03    -0.007678    -0.004364   \n",
       "std    7.674951e-01  8.633978e-01  7.522724e-01     0.761050     0.506494   \n",
       "min   -3.311052e+00 -6.097222e-01 -2.811544e+00    -2.361828    -0.725934   \n",
       "25%   -6.180803e-01 -3.668186e-01 -5.020618e-01    -0.493088    -0.504067   \n",
       "50%   -3.226586e-16 -3.737787e-17 -3.424995e-16     0.000000     0.000000   \n",
       "75%    3.819197e-01  6.331814e-01  4.979382e-01     0.506912     0.495933   \n",
       "max    6.750807e-01  5.593672e+00  2.776499e+00     2.593102     0.781504   \n",
       "\n",
       "        normal_big  \n",
       "count  1000.000000  \n",
       "mean      0.013173  \n",
       "std       0.728263  \n",
       "min      -2.342925  \n",
       "25%      -0.493318  \n",
       "50%       0.000000  \n",
       "75%       0.506682  \n",
       "max       2.525299  "
      ]
     },
     "execution_count": 13,
     "metadata": {},
     "output_type": "execute_result"
    }
   ],
   "source": [
    "# thống kê về dữ liệu được sinh ra\n",
    "df_s.describe()"
   ]
  },
  {
   "cell_type": "code",
   "execution_count": 14,
   "id": "4ad25b98",
   "metadata": {},
   "outputs": [
    {
     "data": {
      "text/plain": [
       "<AxesSubplot:>"
      ]
     },
     "execution_count": 14,
     "metadata": {},
     "output_type": "execute_result"
    },
    {
     "data": {
      "image/png": "[encoded data removed]",
      "text/plain": [
       "<Figure size 432x288 with 1 Axes>"
      ]
     },
     "metadata": {
      "needs_background": "light"
     },
     "output_type": "display_data"
    }
   ],
   "source": [
    "df_s.boxplot()"
   ]
  },
  {
   "cell_type": "code",
   "execution_count": 18,
   "id": "38020d09",
   "metadata": {},
   "outputs": [
    {
     "data": {
      "text/plain": [
       "-3.311052421950515"
      ]
     },
     "execution_count": 18,
     "metadata": {},
     "output_type": "execute_result"
    }
   ],
   "source": [
    "# lấy các giá trị min ở mỗi cột\n",
    "mins = [df_s[col].min() for col in df_s.columns]\n",
    "mins"
   ]
  },
  {
   "cell_type": "code",
   "execution_count": 16,
   "id": "8da76918",
   "metadata": {},
   "outputs": [
    {
     "data": {
      "text/plain": [
       "[0.6750807143735612,\n",
       " 5.593671597877699,\n",
       " 2.776498506320456,\n",
       " 2.5931016853773845,\n",
       " 0.7815038877367525,\n",
       " 2.525298936704979]"
      ]
     },
     "execution_count": 16,
     "metadata": {},
     "output_type": "execute_result"
    }
   ],
   "source": [
    "# lấy giá trị max ở mỗi cột\n",
    "maxs = [df_s[col].max() for col in df_s.columns]\n",
    "maxs"
   ]
  },
  {
   "cell_type": "code",
   "execution_count": 17,
   "id": "258ecef3",
   "metadata": {},
   "outputs": [
    {
     "data": {
      "text/plain": [
       "array([5.25622092e+01, 7.28123983e+00, 1.00199749e+01, 1.05286239e+01,\n",
       "       1.59476428e-01, 9.99676747e+05])"
      ]
     },
     "execution_count": 17,
     "metadata": {},
     "output_type": "execute_result"
    }
   ],
   "source": [
    "# giá trị trung vị của các đặc trưng của tập dữ liệu gốc\n",
    "scaler.center_"
   ]
  },
  {
   "cell_type": "code",
   "execution_count": 27,
   "id": "b99542e0",
   "metadata": {},
   "outputs": [
    {
     "data": {
      "text/plain": [
       "-3.311052421950515"
      ]
     },
     "execution_count": 27,
     "metadata": {},
     "output_type": "execute_result"
    }
   ],
   "source": [
    "mode1 = df_s['beta'].mode()\n",
    "mode1[0]"
   ]
  },
  {
   "cell_type": "code",
   "execution_count": null,
   "id": "8bde5a24",
   "metadata": {},
   "outputs": [],
   "source": []
  }
 ],
 "metadata": {
  "kernelspec": {
   "display_name": "Python 3 (ipykernel)",
   "language": "python",
   "name": "python3"
  },
  "language_info": {
   "codemirror_mode": {
    "name": "ipython",
    "version": 3
   },
   "file_extension": ".py",
   "mimetype": "text/x-python",
   "name": "python",
   "nbconvert_exporter": "python",
   "pygments_lexer": "ipython3",
   "version": "3.9.12"
  }
 },
 "nbformat": 4,
 "nbformat_minor": 5
}
