{
 "cells": [
  {
   "cell_type": "code",
   "execution_count": 1,
   "id": "400f7cfa",
   "metadata": {},
   "outputs": [
    {
     "data": {
      "text/html": [
       "<div>\n",
       "<style scoped>\n",
       "    .dataframe tbody tr th:only-of-type {\n",
       "        vertical-align: middle;\n",
       "    }\n",
       "\n",
       "    .dataframe tbody tr th {\n",
       "        vertical-align: top;\n",
       "    }\n",
       "\n",
       "    .dataframe thead th {\n",
       "        text-align: right;\n",
       "    }\n",
       "</style>\n",
       "<table border=\"1\" class=\"dataframe\">\n",
       "  <thead>\n",
       "    <tr style=\"text-align: right;\">\n",
       "      <th></th>\n",
       "      <th>Country</th>\n",
       "      <th>Continent</th>\n",
       "      <th>GDP (millions of US$)</th>\n",
       "    </tr>\n",
       "  </thead>\n",
       "  <tbody>\n",
       "    <tr>\n",
       "      <th>0</th>\n",
       "      <td>Afghanistan</td>\n",
       "      <td>Asia</td>\n",
       "      <td>18181</td>\n",
       "    </tr>\n",
       "    <tr>\n",
       "      <th>1</th>\n",
       "      <td>Albania</td>\n",
       "      <td>Europe</td>\n",
       "      <td>12847</td>\n",
       "    </tr>\n",
       "    <tr>\n",
       "      <th>2</th>\n",
       "      <td>Algeria</td>\n",
       "      <td>Africa</td>\n",
       "      <td>190709</td>\n",
       "    </tr>\n",
       "    <tr>\n",
       "      <th>3</th>\n",
       "      <td>Angola</td>\n",
       "      <td>Africa</td>\n",
       "      <td>100948</td>\n",
       "    </tr>\n",
       "    <tr>\n",
       "      <th>4</th>\n",
       "      <td>Argentina</td>\n",
       "      <td>South America</td>\n",
       "      <td>447644</td>\n",
       "    </tr>\n",
       "    <tr>\n",
       "      <th>...</th>\n",
       "      <td>...</td>\n",
       "      <td>...</td>\n",
       "      <td>...</td>\n",
       "    </tr>\n",
       "    <tr>\n",
       "      <th>120</th>\n",
       "      <td>Uzbekistan</td>\n",
       "      <td>Asia</td>\n",
       "      <td>45353</td>\n",
       "    </tr>\n",
       "    <tr>\n",
       "      <th>121</th>\n",
       "      <td>Venezuela</td>\n",
       "      <td>South America</td>\n",
       "      <td>315841</td>\n",
       "    </tr>\n",
       "    <tr>\n",
       "      <th>122</th>\n",
       "      <td>Vietnam</td>\n",
       "      <td>Asia</td>\n",
       "      <td>122722</td>\n",
       "    </tr>\n",
       "    <tr>\n",
       "      <th>123</th>\n",
       "      <td>Yemen</td>\n",
       "      <td>Africa</td>\n",
       "      <td>33675</td>\n",
       "    </tr>\n",
       "    <tr>\n",
       "      <th>124</th>\n",
       "      <td>Zambia</td>\n",
       "      <td>Africa</td>\n",
       "      <td>19206</td>\n",
       "    </tr>\n",
       "  </tbody>\n",
       "</table>\n",
       "<p>125 rows × 3 columns</p>\n",
       "</div>"
      ],
      "text/plain": [
       "          Country      Continent  GDP (millions of US$)\n",
       "0     Afghanistan           Asia                  18181\n",
       "1         Albania         Europe                  12847\n",
       "2         Algeria         Africa                 190709\n",
       "3          Angola         Africa                 100948\n",
       "4       Argentina  South America                 447644\n",
       "..            ...            ...                    ...\n",
       "120    Uzbekistan           Asia                  45353\n",
       "121     Venezuela  South America                 315841\n",
       "122       Vietnam           Asia                 122722\n",
       "123         Yemen         Africa                  33675\n",
       "124        Zambia         Africa                  19206\n",
       "\n",
       "[125 rows x 3 columns]"
      ]
     },
     "execution_count": 1,
     "metadata": {},
     "output_type": "execute_result"
    }
   ],
   "source": [
    "import pandas as pd\n",
    "import numpy as np\n",
    "import matplotlib.pyplot as plt\n",
    "from scipy import stats\n",
    "data = pd.read_csv('C:/Users/Pyter/DA/BaiTap/GDPlist.csv',header=0 , encoding = \"ISO-8859-1\")\n",
    "data"
   ]
  },
  {
   "cell_type": "markdown",
   "id": "87a05623",
   "metadata": {},
   "source": [
    "Câu 1:\\\n",
    "Trung bình GDP của các quốc gia trên thế giới là 500 tỉ usd/năm"
   ]
  },
  {
   "cell_type": "code",
   "execution_count": 2,
   "id": "b4cb05ff",
   "metadata": {},
   "outputs": [
    {
     "name": "stdout",
     "output_type": "stream",
     "text": [
      "t_statistic =  0.3757438669518338\n",
      "p_value =  0.7077493494055246\n"
     ]
    }
   ],
   "source": [
    "t_statistic, p_value = stats.ttest_1samp(data['GDP (millions of US$)'], 500000)\n",
    "print('t_statistic = ',t_statistic)\n",
    "print('p_value = ',p_value)"
   ]
  },
  {
   "cell_type": "markdown",
   "id": "ed8e2934",
   "metadata": {},
   "source": [
    "Kiểm định giả thuyết:\\\n",
    "Với p_value =  0.7077493494055246 > alpha = 0.05 nên ta không thể kết luận rằng trung bình GDP của các quốc gia trên thế giới khác 500 tỷ USD/năm."
   ]
  },
  {
   "cell_type": "markdown",
   "id": "2e741e2b",
   "metadata": {},
   "source": [
    "Câu 2:\\\n",
    "GDP trung bình ở các quốc gia ở châu Âu cao hơn châu Á không"
   ]
  },
  {
   "cell_type": "code",
   "execution_count": 3,
   "id": "b34a9827",
   "metadata": {},
   "outputs": [],
   "source": [
    "df = data[data['Continent']=='Europe']\n",
    "df1 = data[data['Continent']=='Asia']"
   ]
  },
  {
   "cell_type": "code",
   "execution_count": 5,
   "id": "66f2ac6f",
   "metadata": {},
   "outputs": [
    {
     "name": "stdout",
     "output_type": "stream",
     "text": [
      "t_statistic =  -0.5586877419842815\n",
      "p_value =  0.5781326801926459\n"
     ]
    }
   ],
   "source": [
    "t_statistic, p_value = stats.ttest_ind(df['GDP (millions of US$)'],df1['GDP (millions of US$)'], equal_var=True)\n",
    "print('t_statistic = ',t_statistic)\n",
    "print('p_value = ',p_value)"
   ]
  },
  {
   "cell_type": "markdown",
   "id": "6167503f",
   "metadata": {},
   "source": [
    "Kiểm định giả thuyết:\n",
    "Với p_value =  0.5781326801926459 > alpha = 0.05 với kết quả này, ta không thể kết luận rằng GDP trung bình ở các quốc gia châu Âu cao hơn châu Á."
   ]
  },
  {
   "cell_type": "markdown",
   "id": "eb705e21",
   "metadata": {},
   "source": [
    "Câu 3:\\\n",
    "GDP trung bình của các quốc gia ở châu Âu và châu Mỹ là bằng nhau"
   ]
  },
  {
   "cell_type": "code",
   "execution_count": 6,
   "id": "4697f415",
   "metadata": {},
   "outputs": [],
   "source": [
    "df2 = data[(data['Continent']=='South America') | (data['Continent']=='North America')]"
   ]
  },
  {
   "cell_type": "code",
   "execution_count": 7,
   "id": "0202712a",
   "metadata": {},
   "outputs": [
    {
     "name": "stdout",
     "output_type": "stream",
     "text": [
      "t_statistic =  -1.0372877375171978\n",
      "p_value =  0.3041408163690613\n"
     ]
    }
   ],
   "source": [
    "t_statistic, p_value = stats.ttest_ind(df['GDP (millions of US$)'],df2['GDP (millions of US$)'], equal_var=True)\n",
    "print('t_statistic = ',t_statistic)\n",
    "print('p_value = ',p_value)"
   ]
  },
  {
   "cell_type": "markdown",
   "id": "a2541b1b",
   "metadata": {},
   "source": [
    "Kiểm định giả thuyết:\\\n",
    "Với p_value =  0.3041408163690613 < alpha = 0.05 với kết quả này, ta không thể kết luận rằng GDP trung bình của các quốc gia ở châu Âu và châu Mỹ khác nhau."
   ]
  },
  {
   "cell_type": "code",
   "execution_count": null,
   "id": "5a97a8ec",
   "metadata": {},
   "outputs": [],
   "source": []
  }
 ],
 "metadata": {
  "kernelspec": {
   "display_name": "Python 3 (ipykernel)",
   "language": "python",
   "name": "python3"
  },
  "language_info": {
   "codemirror_mode": {
    "name": "ipython",
    "version": 3
   },
   "file_extension": ".py",
   "mimetype": "text/x-python",
   "name": "python",
   "nbconvert_exporter": "python",
   "pygments_lexer": "ipython3",
   "version": "3.9.12"
  }
 },
 "nbformat": 4,
 "nbformat_minor": 5
}
