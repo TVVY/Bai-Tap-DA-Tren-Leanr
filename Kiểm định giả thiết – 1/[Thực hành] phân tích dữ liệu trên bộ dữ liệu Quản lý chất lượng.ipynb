{
 "cells": [
  {
   "cell_type": "code",
   "execution_count": null,
   "id": "ae4f770e",
   "metadata": {},
   "outputs": [],
   "source": [
    "import pandas as pd\n",
    "from scipy import stats\n",
    "import matplotlib.pyplot as plt"
   ]
  },
  {
   "cell_type": "code",
   "execution_count": null,
   "id": "b96111f6",
   "metadata": {},
   "outputs": [],
   "source": [
    "df = pd.read_excel('data\\Quality.xlsx')\n",
    "print(df.head())\n",
    "df.info()"
   ]
  },
  {
   "cell_type": "markdown",
   "id": "d05da061",
   "metadata": {},
   "source": [
    "# với mức ý nghĩa 0.01 tiến hành kiểm định chất lượng sản phẩm"
   ]
  },
  {
   "cell_type": "code",
   "execution_count": null,
   "id": "9b4bd492",
   "metadata": {},
   "outputs": [],
   "source": [
    "# Tiền xử lý dữ liệu\n",
    "# gom hết dữ liệu của 4 mẫu thành 1 mảng duy nhất\n",
    "sample = list()\n",
    "for i in df.columns:\n",
    "    sample.extend(df[i].tolist())\n",
    "\n",
    "# tiến hành mô tả dữ liệu mẫu\n",
    "df = pd.DataFrame(columns=['sample'], data= sample) \n",
    "df.describe()"
   ]
  },
  {
   "cell_type": "markdown",
   "id": "46f79df4",
   "metadata": {},
   "source": [
    "# Dựa vào kết quả phân tích trên: bộ dữ liệu chứa đủ 120 mẫu\n",
    "\n",
    "Giá trị trung bình trên mẫu đúng bằng 12, giống mô tả của khách hàng\\\n",
    "Phương sai: = 0.223108 (sai số so với giá trị trung bình của mẫu dữ liệu) >0.21 –> khách hàng nên thay đổi lại tuyên bố về sai số của mình\\\n",
    "Tiến hành kiểm định về giá trị trung bình\\\n",
    "Giả thuyết không: khối lượng trung bình của sản phẩm = 12\\\n",
    "Giả thuyết đối: Khối lượng trung bình của sản phẩm # 12\\\n",
    "Thực hiện phép kiểm định: One Sample T Test"
   ]
  },
  {
   "cell_type": "code",
   "execution_count": null,
   "id": "b0b0377e",
   "metadata": {},
   "outputs": [],
   "source": [
    "print (stats.ttest_1samp(sample,12))"
   ]
  },
  {
   "cell_type": "markdown",
   "id": "2b48af1d",
   "metadata": {},
   "source": [
    "Do pvalue > 0.01 –> Chấp nhận giả thuyết 0.\n",
    "\n",
    "Kết luận: Tuyên bố của khách hàng về giá trị trung bình là đúng, nhưng tuyên bố về sai số của sản phẩm đang không hợp lý.\n",
    "\n",
    "Khách hàng nên tuyên bố như sau: Khối lượng sản phẩm trung bình của sản phẩm là 12, với sai số đóng gói trung bình là 0.24 (chiếm khoảng 2%). Hoặc khách hàng cần phải xem lại việc vận hành để đảm bảo tuyên bố ban đầu."
   ]
  }
 ],
 "metadata": {
  "kernelspec": {
   "display_name": "Python 3 (ipykernel)",
   "language": "python",
   "name": "python3"
  },
  "language_info": {
   "codemirror_mode": {
    "name": "ipython",
    "version": 3
   },
   "file_extension": ".py",
   "mimetype": "text/x-python",
   "name": "python",
   "nbconvert_exporter": "python",
   "pygments_lexer": "ipython3",
   "version": "3.9.12"
  }
 },
 "nbformat": 4,
 "nbformat_minor": 5
}
