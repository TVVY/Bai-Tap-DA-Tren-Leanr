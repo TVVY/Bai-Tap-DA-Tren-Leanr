{
 "cells": [
  {
   "cell_type": "code",
   "execution_count": 1,
   "id": "12b4ac36",
   "metadata": {},
   "outputs": [],
   "source": [
    "import pandas as pd\n",
    "from scipy import  stats\n",
    "import matplotlib.pyplot as plt"
   ]
  },
  {
   "cell_type": "code",
   "execution_count": null,
   "id": "51ce01a5",
   "metadata": {},
   "outputs": [],
   "source": [
    "df = pd.read_excel(\"data\\Coca_cola_use.xlsx\", index_col= 'STT')\n",
    "print (\"5 bản ghi đầu tiên của bộ dữ liệu \")\n",
    "print (df.head())"
   ]
  },
  {
   "cell_type": "code",
   "execution_count": null,
   "id": "a546e176",
   "metadata": {},
   "outputs": [],
   "source": [
    "print (\"thông tin bộ dữ liệu\")\n",
    "print (df.info())"
   ]
  },
  {
   "cell_type": "code",
   "execution_count": null,
   "id": "d3e11a65",
   "metadata": {},
   "outputs": [],
   "source": [
    "print (\"mô tả bộ dữ liệu\")\n",
    "print (df.describe())"
   ]
  },
  {
   "cell_type": "markdown",
   "id": "d57b3b8b",
   "metadata": {},
   "source": [
    "Như vậy bộ dữ liệu chứa đầy đủ thông tin như mô tả: số lượng mẫu ở mỗi vùng là 50"
   ]
  },
  {
   "cell_type": "code",
   "execution_count": null,
   "id": "40457e34",
   "metadata": {},
   "outputs": [],
   "source": [
    "df.boxplot()"
   ]
  },
  {
   "cell_type": "markdown",
   "id": "e1d12724",
   "metadata": {},
   "source": [
    "nhìn vào biểu đồ trên chúng ta thấy lượng tiêu thụ ở Ohio có nhỉnh hơn Atlanta một chút, và rất khó để kết luận\n",
    "\n",
    "Tiến hành kiểm định </br> Thực hiện kiểm định giả thuyết so sánh hai mẫu trung bình độc lập gọi a1, a2 lần lượt là lượng tiêu thụ coca trung bình trên đầu người ở Ohio và Atlanta\n",
    "\n",
    "Giả thuyết không: a1-a2 =0\\\n",
    "Giả thuyết đối: a1-a2>0\\\n",
    "mức ý nghĩa 5%\\\n",
    "Loại kiểm định Independent T test"
   ]
  },
  {
   "cell_type": "code",
   "execution_count": null,
   "id": "e06fbbcd",
   "metadata": {},
   "outputs": [],
   "source": [
    "print (stats.ttest_ind(df.Ohio, df.Atlanta,equal_var=False))"
   ]
  },
  {
   "cell_type": "markdown",
   "id": "967e5b5d",
   "metadata": {},
   "source": [
    "Chúng ta nhìn thấy rằng: pvalue > 5% rất nhiều nên không đủ cơ sở để bác bỏ giả thuyết không </br> Kết luận: Không đủ căn cứ để kết luận rằng lượng tiêu thụ coca trung bình ở Ohio lớn hơn ở Atlanta"
   ]
  },
  {
   "cell_type": "code",
   "execution_count": null,
   "id": "c8b7b404",
   "metadata": {},
   "outputs": [],
   "source": []
  }
 ],
 "metadata": {
  "kernelspec": {
   "display_name": "Python 3 (ipykernel)",
   "language": "python",
   "name": "python3"
  },
  "language_info": {
   "codemirror_mode": {
    "name": "ipython",
    "version": 3
   },
   "file_extension": ".py",
   "mimetype": "text/x-python",
   "name": "python",
   "nbconvert_exporter": "python",
   "pygments_lexer": "ipython3",
   "version": "3.9.12"
  }
 },
 "nbformat": 4,
 "nbformat_minor": 5
}
