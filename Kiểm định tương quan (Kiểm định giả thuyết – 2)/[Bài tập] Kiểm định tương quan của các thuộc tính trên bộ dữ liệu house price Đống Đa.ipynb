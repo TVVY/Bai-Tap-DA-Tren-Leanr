{
 "cells": [
  {
   "cell_type": "code",
   "execution_count": 9,
   "id": "d14b01c7",
   "metadata": {},
   "outputs": [
    {
     "data": {
      "text/html": [
       "<div>\n",
       "<style scoped>\n",
       "    .dataframe tbody tr th:only-of-type {\n",
       "        vertical-align: middle;\n",
       "    }\n",
       "\n",
       "    .dataframe tbody tr th {\n",
       "        vertical-align: top;\n",
       "    }\n",
       "\n",
       "    .dataframe thead th {\n",
       "        text-align: right;\n",
       "    }\n",
       "</style>\n",
       "<table border=\"1\" class=\"dataframe\">\n",
       "  <thead>\n",
       "    <tr style=\"text-align: right;\">\n",
       "      <th></th>\n",
       "      <th>area</th>\n",
       "      <th>price</th>\n",
       "      <th>postDate</th>\n",
       "      <th>land_certificate</th>\n",
       "      <th>house_direction</th>\n",
       "      <th>balcony_direction</th>\n",
       "      <th>toilet</th>\n",
       "      <th>bedroom</th>\n",
       "      <th>floor</th>\n",
       "      <th>lat</th>\n",
       "      <th>long</th>\n",
       "      <th>property_type</th>\n",
       "    </tr>\n",
       "  </thead>\n",
       "  <tbody>\n",
       "    <tr>\n",
       "      <th>0</th>\n",
       "      <td>50.0</td>\n",
       "      <td>14700.0</td>\n",
       "      <td>44197</td>\n",
       "      <td>So do</td>\n",
       "      <td>NaN</td>\n",
       "      <td>NaN</td>\n",
       "      <td>4.0</td>\n",
       "      <td>6.0</td>\n",
       "      <td>6.0</td>\n",
       "      <td>21.015698</td>\n",
       "      <td>105.824583</td>\n",
       "      <td>trong ngo</td>\n",
       "    </tr>\n",
       "    <tr>\n",
       "      <th>1</th>\n",
       "      <td>57.0</td>\n",
       "      <td>4200.0</td>\n",
       "      <td>44265</td>\n",
       "      <td>So do</td>\n",
       "      <td>Nam</td>\n",
       "      <td>Nam</td>\n",
       "      <td>3.0</td>\n",
       "      <td>8.0</td>\n",
       "      <td>4.0</td>\n",
       "      <td>21.025208</td>\n",
       "      <td>105.833111</td>\n",
       "      <td>trong ngo</td>\n",
       "    </tr>\n",
       "    <tr>\n",
       "      <th>2</th>\n",
       "      <td>62.0</td>\n",
       "      <td>11000.0</td>\n",
       "      <td>44268</td>\n",
       "      <td>So do</td>\n",
       "      <td>NaN</td>\n",
       "      <td>dong-Nam</td>\n",
       "      <td>6.0</td>\n",
       "      <td>5.0</td>\n",
       "      <td>6.0</td>\n",
       "      <td>21.025379</td>\n",
       "      <td>105.801011</td>\n",
       "      <td>trong ngo</td>\n",
       "    </tr>\n",
       "    <tr>\n",
       "      <th>3</th>\n",
       "      <td>26.0</td>\n",
       "      <td>2900.0</td>\n",
       "      <td>44292</td>\n",
       "      <td>So do</td>\n",
       "      <td>NaN</td>\n",
       "      <td>NaN</td>\n",
       "      <td>4.0</td>\n",
       "      <td>3.0</td>\n",
       "      <td>4.0</td>\n",
       "      <td>21.014325</td>\n",
       "      <td>105.834918</td>\n",
       "      <td>trong ngo</td>\n",
       "    </tr>\n",
       "    <tr>\n",
       "      <th>4</th>\n",
       "      <td>40.0</td>\n",
       "      <td>3950.0</td>\n",
       "      <td>44292</td>\n",
       "      <td>So do</td>\n",
       "      <td>NaN</td>\n",
       "      <td>NaN</td>\n",
       "      <td>NaN</td>\n",
       "      <td>NaN</td>\n",
       "      <td>5.0</td>\n",
       "      <td>21.009862</td>\n",
       "      <td>105.838083</td>\n",
       "      <td>trong ngo</td>\n",
       "    </tr>\n",
       "    <tr>\n",
       "      <th>...</th>\n",
       "      <td>...</td>\n",
       "      <td>...</td>\n",
       "      <td>...</td>\n",
       "      <td>...</td>\n",
       "      <td>...</td>\n",
       "      <td>...</td>\n",
       "      <td>...</td>\n",
       "      <td>...</td>\n",
       "      <td>...</td>\n",
       "      <td>...</td>\n",
       "      <td>...</td>\n",
       "      <td>...</td>\n",
       "    </tr>\n",
       "    <tr>\n",
       "      <th>666</th>\n",
       "      <td>168.0</td>\n",
       "      <td>23500.0</td>\n",
       "      <td>44325</td>\n",
       "      <td>NaN</td>\n",
       "      <td>NaN</td>\n",
       "      <td>NaN</td>\n",
       "      <td>3.0</td>\n",
       "      <td>3.0</td>\n",
       "      <td>3.0</td>\n",
       "      <td>21.000823</td>\n",
       "      <td>105.829097</td>\n",
       "      <td>mat pho</td>\n",
       "    </tr>\n",
       "    <tr>\n",
       "      <th>667</th>\n",
       "      <td>65.0</td>\n",
       "      <td>17500.0</td>\n",
       "      <td>44325</td>\n",
       "      <td>So do</td>\n",
       "      <td>NaN</td>\n",
       "      <td>NaN</td>\n",
       "      <td>NaN</td>\n",
       "      <td>6.0</td>\n",
       "      <td>5.0</td>\n",
       "      <td>21.011495</td>\n",
       "      <td>105.816666</td>\n",
       "      <td>mat pho</td>\n",
       "    </tr>\n",
       "    <tr>\n",
       "      <th>668</th>\n",
       "      <td>60.0</td>\n",
       "      <td>17500.0</td>\n",
       "      <td>44197</td>\n",
       "      <td>NaN</td>\n",
       "      <td>NaN</td>\n",
       "      <td>NaN</td>\n",
       "      <td>NaN</td>\n",
       "      <td>NaN</td>\n",
       "      <td>NaN</td>\n",
       "      <td>21.011495</td>\n",
       "      <td>105.816666</td>\n",
       "      <td>mat pho</td>\n",
       "    </tr>\n",
       "    <tr>\n",
       "      <th>669</th>\n",
       "      <td>45.0</td>\n",
       "      <td>24800.0</td>\n",
       "      <td>44197</td>\n",
       "      <td>NaN</td>\n",
       "      <td>NaN</td>\n",
       "      <td>NaN</td>\n",
       "      <td>NaN</td>\n",
       "      <td>NaN</td>\n",
       "      <td>NaN</td>\n",
       "      <td>21.016106</td>\n",
       "      <td>105.832157</td>\n",
       "      <td>mat pho</td>\n",
       "    </tr>\n",
       "    <tr>\n",
       "      <th>670</th>\n",
       "      <td>107.0</td>\n",
       "      <td>45000.0</td>\n",
       "      <td>44325</td>\n",
       "      <td>So do</td>\n",
       "      <td>NaN</td>\n",
       "      <td>NaN</td>\n",
       "      <td>NaN</td>\n",
       "      <td>NaN</td>\n",
       "      <td>5.0</td>\n",
       "      <td>21.009123</td>\n",
       "      <td>105.824428</td>\n",
       "      <td>mat pho</td>\n",
       "    </tr>\n",
       "  </tbody>\n",
       "</table>\n",
       "<p>671 rows × 12 columns</p>\n",
       "</div>"
      ],
      "text/plain": [
       "      area    price  postDate land_certificate house_direction  \\\n",
       "0     50.0  14700.0     44197            So do             NaN   \n",
       "1     57.0   4200.0     44265            So do             Nam   \n",
       "2     62.0  11000.0     44268            So do             NaN   \n",
       "3     26.0   2900.0     44292            So do             NaN   \n",
       "4     40.0   3950.0     44292            So do             NaN   \n",
       "..     ...      ...       ...              ...             ...   \n",
       "666  168.0  23500.0     44325              NaN             NaN   \n",
       "667   65.0  17500.0     44325            So do             NaN   \n",
       "668   60.0  17500.0     44197              NaN             NaN   \n",
       "669   45.0  24800.0     44197              NaN             NaN   \n",
       "670  107.0  45000.0     44325            So do             NaN   \n",
       "\n",
       "    balcony_direction  toilet  bedroom  floor        lat        long  \\\n",
       "0                 NaN     4.0      6.0    6.0  21.015698  105.824583   \n",
       "1                 Nam     3.0      8.0    4.0  21.025208  105.833111   \n",
       "2            dong-Nam     6.0      5.0    6.0  21.025379  105.801011   \n",
       "3                 NaN     4.0      3.0    4.0  21.014325  105.834918   \n",
       "4                 NaN     NaN      NaN    5.0  21.009862  105.838083   \n",
       "..                ...     ...      ...    ...        ...         ...   \n",
       "666               NaN     3.0      3.0    3.0  21.000823  105.829097   \n",
       "667               NaN     NaN      6.0    5.0  21.011495  105.816666   \n",
       "668               NaN     NaN      NaN    NaN  21.011495  105.816666   \n",
       "669               NaN     NaN      NaN    NaN  21.016106  105.832157   \n",
       "670               NaN     NaN      NaN    5.0  21.009123  105.824428   \n",
       "\n",
       "    property_type  \n",
       "0       trong ngo  \n",
       "1       trong ngo  \n",
       "2       trong ngo  \n",
       "3       trong ngo  \n",
       "4       trong ngo  \n",
       "..            ...  \n",
       "666       mat pho  \n",
       "667       mat pho  \n",
       "668       mat pho  \n",
       "669       mat pho  \n",
       "670       mat pho  \n",
       "\n",
       "[671 rows x 12 columns]"
      ]
     },
     "execution_count": 9,
     "metadata": {},
     "output_type": "execute_result"
    }
   ],
   "source": [
    "import pandas as pd\n",
    "import numpy as np\n",
    "import seaborn as sns\n",
    "import matplotlib.pyplot as plt\n",
    "from scipy import stats\n",
    "data = pd.read_csv('C:/Users/Pyter/DA/BaiTap/house_price_Dống-Da_Hà-Nội_subdata.csv',header=0)\n",
    "data"
   ]
  },
  {
   "cell_type": "markdown",
   "id": "35cd240e",
   "metadata": {},
   "source": [
    "Câu Hỏi:\n",
    "- Giữa giá nhà và diện tích có tương quan với nhau?\n",
    "- Giữa giá nhà và tọa độ địa lý (lat, long) có tương quan với nhau\n",
    "- Giữa thuộc tính land_certificate và property_type có tương quan với nhau\n",
    "- Hãy  mã hóa lại thuộc tính giá nhà theo đơn vị (nghìn đồng/m2) và sắp xếp giá nhà thành 4 mức tương ứng với các khoảng tứ phân vị. Tiến hành kiểm định tương quan giữa biến giá nhà này với các biến tọa độ vị trí (lat, long)"
   ]
  },
  {
   "cell_type": "code",
   "execution_count": 10,
   "id": "3d87e99b",
   "metadata": {},
   "outputs": [
    {
     "name": "stdout",
     "output_type": "stream",
     "text": [
      "Cột area chứa 6 giá trị KT\n",
      "Cột price chứa 54 giá trị KT\n",
      "Cột land_certificate chứa 302 giá trị KT\n",
      "Cột house_direction chứa 629 giá trị KT\n",
      "Cột balcony_direction chứa 647 giá trị KT\n",
      "Cột toilet chứa 431 giá trị KT\n",
      "Cột bedroom chứa 351 giá trị KT\n",
      "Cột floor chứa 305 giá trị KT\n"
     ]
    }
   ],
   "source": [
    "for index, column in enumerate(data.columns):\n",
    "    temp = data.loc[:,column].isna()\n",
    "    if temp.sum() > 0:\n",
    "        print('Cột', data.columns[index], 'chứa' , temp.sum() , 'giá trị KT')"
   ]
  },
  {
   "cell_type": "code",
   "execution_count": 31,
   "id": "4dd38c82",
   "metadata": {},
   "outputs": [],
   "source": [
    "data.dropna(subset=['price'],inplace=True)\n",
    "data.dropna(subset=['area'],inplace=True)\n",
    "data.dropna(subset=['land_certificate'],inplace=True)"
   ]
  },
  {
   "cell_type": "code",
   "execution_count": 32,
   "id": "cb8fc8c7",
   "metadata": {},
   "outputs": [
    {
     "name": "stdout",
     "output_type": "stream",
     "text": [
      "Cột house_direction chứa 323 giá trị KT\n",
      "Cột balcony_direction chứa 338 giá trị KT\n",
      "Cột toilet chứa 149 giá trị KT\n",
      "Cột bedroom chứa 92 giá trị KT\n",
      "Cột floor chứa 82 giá trị KT\n"
     ]
    }
   ],
   "source": [
    "for index, column in enumerate(data.columns):\n",
    "    temp = data.loc[:,column].isna()\n",
    "    if temp.sum() > 0:\n",
    "        print('Cột', data.columns[index], 'chứa' , temp.sum() , 'giá trị KT')"
   ]
  },
  {
   "cell_type": "markdown",
   "id": "a5234db3",
   "metadata": {},
   "source": [
    "- Giữa giá nhà và diện tích có tương quan với nhau?"
   ]
  },
  {
   "cell_type": "code",
   "execution_count": 30,
   "id": "c37cc033",
   "metadata": {},
   "outputs": [
    {
     "name": "stdout",
     "output_type": "stream",
     "text": [
      "r=0.229, pvalue=0.000\n"
     ]
    }
   ],
   "source": [
    "r, pvalue = stats.pearsonr(data['area'], data['price'])\n",
    "print('r=%.3f, pvalue=%.3f' % (r, pvalue))"
   ]
  },
  {
   "cell_type": "markdown",
   "id": "58dbfa79",
   "metadata": {},
   "source": [
    "kết luận: giữa giá nhà và diện tích không tương quan với nhau do r<alpha=0.05 nên ta có thể kết luận là không tương quan"
   ]
  },
  {
   "cell_type": "markdown",
   "id": "362b92fd",
   "metadata": {},
   "source": [
    "- Giữa giá nhà và tọa độ địa lý (lat, long) có tương quan với nhau"
   ]
  },
  {
   "cell_type": "code",
   "execution_count": 39,
   "id": "acff8e30",
   "metadata": {},
   "outputs": [
    {
     "name": "stdout",
     "output_type": "stream",
     "text": [
      "r=-0.096, pvalue=0.070\n"
     ]
    }
   ],
   "source": [
    "r, pvalue = stats.pearsonr(data['lat'], data['price'])\n",
    "print('r=%.3f, pvalue=%.3f' % (r, pvalue))"
   ]
  },
  {
   "cell_type": "markdown",
   "id": "dacc9ef1",
   "metadata": {},
   "source": [
    "kết luận: giữa giá nhà và lat không tương quan với nhau do r<alpha=0.05 nên ta có thể kết luận là không tương quan"
   ]
  },
  {
   "cell_type": "code",
   "execution_count": 40,
   "id": "33ba33ed",
   "metadata": {},
   "outputs": [
    {
     "name": "stdout",
     "output_type": "stream",
     "text": [
      "r=0.082, pvalue=0.120\n"
     ]
    }
   ],
   "source": [
    "r, pvalue = stats.pearsonr(data['long'], data['price'])\n",
    "print('r=%.3f, pvalue=%.3f' % (r, pvalue))"
   ]
  },
  {
   "cell_type": "markdown",
   "id": "27021bf7",
   "metadata": {},
   "source": [
    "kết luận: giữa giá nhà và long không tương quan với nhau do r<alpha=0.05 nên ta có thể kết luận là không tương quan"
   ]
  },
  {
   "cell_type": "markdown",
   "id": "eec10839",
   "metadata": {},
   "source": [
    "- Giữa thuộc tính land_certificate và property_type có tương quan với nhau"
   ]
  },
  {
   "cell_type": "code",
   "execution_count": 42,
   "id": "fe18b46d",
   "metadata": {},
   "outputs": [
    {
     "name": "stdout",
     "output_type": "stream",
     "text": [
      "1.0\n"
     ]
    }
   ],
   "source": [
    "contigency= pd.crosstab(data['land_certificate'], data['property_type'])\n",
    "c, p, dof, expected = stats.chi2_contingency(contigency)\n",
    "print(p)"
   ]
  },
  {
   "cell_type": "markdown",
   "id": "ab237ad7",
   "metadata": {},
   "source": [
    "kết luận: giữa land_certificate và property_type không tương quan với nhau do p > alpha=0.05 nên ta có thể kết luận là không tương quan"
   ]
  },
  {
   "cell_type": "markdown",
   "id": "d4eaf7a5",
   "metadata": {},
   "source": [
    "- Hãy  mã hóa lại thuộc tính giá nhà theo đơn vị (nghìn đồng/m2) và sắp xếp giá nhà thành 4 mức tương ứng với các khoảng tứ phân vị. Tiến hành kiểm định tương quan giữa biến giá nhà này với các biến tọa độ vị trí (lat, long)"
   ]
  },
  {
   "cell_type": "code",
   "execution_count": 45,
   "id": "f5f36241",
   "metadata": {},
   "outputs": [],
   "source": [
    "data['price_per_sqm'] = data['price'] / data['area']\n",
    "data['price_category'] = pd.qcut(data['price_per_sqm'], q=4, labels=['Low', 'Medium', 'High', 'Very high'])\n"
   ]
  },
  {
   "cell_type": "code",
   "execution_count": 50,
   "id": "0a468f7f",
   "metadata": {},
   "outputs": [
    {
     "name": "stdout",
     "output_type": "stream",
     "text": [
      "R: 0.09, p-value: 0.1019\n"
     ]
    }
   ],
   "source": [
    "from scipy.stats import spearmanr\n",
    "\n",
    "correlation, p_value = spearmanr(data['price_per_sqm'], data['lat'])\n",
    "\n",
    "print(f\"R: {correlation:.2f}, p-value: {p_value:.4f}\")\n"
   ]
  },
  {
   "cell_type": "markdown",
   "id": "6bbe1dc4",
   "metadata": {},
   "source": [
    "Kết luận: Do p_value:0.1019 với alpha=0.05 nên ta có thể kết luận rằng giữa price_per_sqm và lat không tương"
   ]
  },
  {
   "cell_type": "code",
   "execution_count": 51,
   "id": "39462cbf",
   "metadata": {},
   "outputs": [
    {
     "name": "stdout",
     "output_type": "stream",
     "text": [
      "R: -0.23, p-value: 0.0000\n"
     ]
    }
   ],
   "source": [
    "correlation, p_value = spearmanr(data['price_per_sqm'], data['long'])\n",
    "\n",
    "print(f\"R: {correlation:.2f}, p-value: {p_value:.4f}\")"
   ]
  },
  {
   "cell_type": "code",
   "execution_count": null,
   "id": "e26f4794",
   "metadata": {},
   "outputs": [],
   "source": []
  }
 ],
 "metadata": {
  "kernelspec": {
   "display_name": "Python 3 (ipykernel)",
   "language": "python",
   "name": "python3"
  },
  "language_info": {
   "codemirror_mode": {
    "name": "ipython",
    "version": 3
   },
   "file_extension": ".py",
   "mimetype": "text/x-python",
   "name": "python",
   "nbconvert_exporter": "python",
   "pygments_lexer": "ipython3",
   "version": "3.9.12"
  }
 },
 "nbformat": 4,
 "nbformat_minor": 5
}
