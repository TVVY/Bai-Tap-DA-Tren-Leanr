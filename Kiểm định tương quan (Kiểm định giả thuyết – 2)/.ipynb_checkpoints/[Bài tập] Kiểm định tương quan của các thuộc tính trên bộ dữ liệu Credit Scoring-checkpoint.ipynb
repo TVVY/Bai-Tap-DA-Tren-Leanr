{
 "cells": [
  {
   "cell_type": "code",
   "execution_count": 1,
   "id": "ac702341",
   "metadata": {},
   "outputs": [
    {
     "data": {
      "text/html": [
       "<div>\n",
       "<style scoped>\n",
       "    .dataframe tbody tr th:only-of-type {\n",
       "        vertical-align: middle;\n",
       "    }\n",
       "\n",
       "    .dataframe tbody tr th {\n",
       "        vertical-align: top;\n",
       "    }\n",
       "\n",
       "    .dataframe thead th {\n",
       "        text-align: right;\n",
       "    }\n",
       "</style>\n",
       "<table border=\"1\" class=\"dataframe\">\n",
       "  <thead>\n",
       "    <tr style=\"text-align: right;\">\n",
       "      <th></th>\n",
       "      <th>SeriousDlqin2yrs</th>\n",
       "      <th>RevolvingUtilizationOfUnsecuredLines</th>\n",
       "      <th>age</th>\n",
       "      <th>NumberOfTime30-59DaysPastDueNotWorse</th>\n",
       "      <th>DebtRatio</th>\n",
       "      <th>MonthlyIncome</th>\n",
       "      <th>NumberOfOpenCreditLinesAndLoans</th>\n",
       "      <th>NumberOfTimes90DaysLate</th>\n",
       "      <th>NumberRealEstateLoansOrLines</th>\n",
       "      <th>NumberOfTime60-89DaysPastDueNotWorse</th>\n",
       "      <th>NumberOfDependents</th>\n",
       "    </tr>\n",
       "  </thead>\n",
       "  <tbody>\n",
       "    <tr>\n",
       "      <th>0</th>\n",
       "      <td>0</td>\n",
       "      <td>0.116951</td>\n",
       "      <td>27</td>\n",
       "      <td>0</td>\n",
       "      <td>46.000000</td>\n",
       "      <td>NaN</td>\n",
       "      <td>2</td>\n",
       "      <td>0</td>\n",
       "      <td>0</td>\n",
       "      <td>0</td>\n",
       "      <td>NaN</td>\n",
       "    </tr>\n",
       "    <tr>\n",
       "      <th>1</th>\n",
       "      <td>0</td>\n",
       "      <td>0.189169</td>\n",
       "      <td>57</td>\n",
       "      <td>0</td>\n",
       "      <td>0.606291</td>\n",
       "      <td>23684.0</td>\n",
       "      <td>9</td>\n",
       "      <td>0</td>\n",
       "      <td>4</td>\n",
       "      <td>0</td>\n",
       "      <td>2.0</td>\n",
       "    </tr>\n",
       "    <tr>\n",
       "      <th>2</th>\n",
       "      <td>0</td>\n",
       "      <td>0.644226</td>\n",
       "      <td>30</td>\n",
       "      <td>0</td>\n",
       "      <td>0.309476</td>\n",
       "      <td>2500.0</td>\n",
       "      <td>5</td>\n",
       "      <td>0</td>\n",
       "      <td>0</td>\n",
       "      <td>0</td>\n",
       "      <td>0.0</td>\n",
       "    </tr>\n",
       "    <tr>\n",
       "      <th>3</th>\n",
       "      <td>0</td>\n",
       "      <td>0.018798</td>\n",
       "      <td>51</td>\n",
       "      <td>0</td>\n",
       "      <td>0.531529</td>\n",
       "      <td>6501.0</td>\n",
       "      <td>7</td>\n",
       "      <td>0</td>\n",
       "      <td>2</td>\n",
       "      <td>0</td>\n",
       "      <td>2.0</td>\n",
       "    </tr>\n",
       "    <tr>\n",
       "      <th>4</th>\n",
       "      <td>0</td>\n",
       "      <td>0.010352</td>\n",
       "      <td>46</td>\n",
       "      <td>0</td>\n",
       "      <td>0.298354</td>\n",
       "      <td>12454.0</td>\n",
       "      <td>13</td>\n",
       "      <td>0</td>\n",
       "      <td>2</td>\n",
       "      <td>0</td>\n",
       "      <td>2.0</td>\n",
       "    </tr>\n",
       "    <tr>\n",
       "      <th>...</th>\n",
       "      <td>...</td>\n",
       "      <td>...</td>\n",
       "      <td>...</td>\n",
       "      <td>...</td>\n",
       "      <td>...</td>\n",
       "      <td>...</td>\n",
       "      <td>...</td>\n",
       "      <td>...</td>\n",
       "      <td>...</td>\n",
       "      <td>...</td>\n",
       "      <td>...</td>\n",
       "    </tr>\n",
       "    <tr>\n",
       "      <th>149987</th>\n",
       "      <td>0</td>\n",
       "      <td>0.040674</td>\n",
       "      <td>74</td>\n",
       "      <td>0</td>\n",
       "      <td>0.225131</td>\n",
       "      <td>2100.0</td>\n",
       "      <td>4</td>\n",
       "      <td>0</td>\n",
       "      <td>1</td>\n",
       "      <td>0</td>\n",
       "      <td>0.0</td>\n",
       "    </tr>\n",
       "    <tr>\n",
       "      <th>149988</th>\n",
       "      <td>0</td>\n",
       "      <td>0.299745</td>\n",
       "      <td>44</td>\n",
       "      <td>0</td>\n",
       "      <td>0.716562</td>\n",
       "      <td>5584.0</td>\n",
       "      <td>4</td>\n",
       "      <td>0</td>\n",
       "      <td>1</td>\n",
       "      <td>0</td>\n",
       "      <td>2.0</td>\n",
       "    </tr>\n",
       "    <tr>\n",
       "      <th>149989</th>\n",
       "      <td>0</td>\n",
       "      <td>0.246044</td>\n",
       "      <td>58</td>\n",
       "      <td>0</td>\n",
       "      <td>3870.000000</td>\n",
       "      <td>NaN</td>\n",
       "      <td>18</td>\n",
       "      <td>0</td>\n",
       "      <td>1</td>\n",
       "      <td>0</td>\n",
       "      <td>0.0</td>\n",
       "    </tr>\n",
       "    <tr>\n",
       "      <th>149990</th>\n",
       "      <td>0</td>\n",
       "      <td>0.000000</td>\n",
       "      <td>30</td>\n",
       "      <td>0</td>\n",
       "      <td>0.000000</td>\n",
       "      <td>5716.0</td>\n",
       "      <td>4</td>\n",
       "      <td>0</td>\n",
       "      <td>0</td>\n",
       "      <td>0</td>\n",
       "      <td>0.0</td>\n",
       "    </tr>\n",
       "    <tr>\n",
       "      <th>149991</th>\n",
       "      <td>0</td>\n",
       "      <td>0.850283</td>\n",
       "      <td>64</td>\n",
       "      <td>0</td>\n",
       "      <td>0.249908</td>\n",
       "      <td>8158.0</td>\n",
       "      <td>8</td>\n",
       "      <td>0</td>\n",
       "      <td>2</td>\n",
       "      <td>0</td>\n",
       "      <td>0.0</td>\n",
       "    </tr>\n",
       "  </tbody>\n",
       "</table>\n",
       "<p>149992 rows × 11 columns</p>\n",
       "</div>"
      ],
      "text/plain": [
       "        SeriousDlqin2yrs  RevolvingUtilizationOfUnsecuredLines  age  \\\n",
       "0                      0                              0.116951   27   \n",
       "1                      0                              0.189169   57   \n",
       "2                      0                              0.644226   30   \n",
       "3                      0                              0.018798   51   \n",
       "4                      0                              0.010352   46   \n",
       "...                  ...                                   ...  ...   \n",
       "149987                 0                              0.040674   74   \n",
       "149988                 0                              0.299745   44   \n",
       "149989                 0                              0.246044   58   \n",
       "149990                 0                              0.000000   30   \n",
       "149991                 0                              0.850283   64   \n",
       "\n",
       "        NumberOfTime30-59DaysPastDueNotWorse    DebtRatio  MonthlyIncome  \\\n",
       "0                                          0    46.000000            NaN   \n",
       "1                                          0     0.606291        23684.0   \n",
       "2                                          0     0.309476         2500.0   \n",
       "3                                          0     0.531529         6501.0   \n",
       "4                                          0     0.298354        12454.0   \n",
       "...                                      ...          ...            ...   \n",
       "149987                                     0     0.225131         2100.0   \n",
       "149988                                     0     0.716562         5584.0   \n",
       "149989                                     0  3870.000000            NaN   \n",
       "149990                                     0     0.000000         5716.0   \n",
       "149991                                     0     0.249908         8158.0   \n",
       "\n",
       "        NumberOfOpenCreditLinesAndLoans  NumberOfTimes90DaysLate  \\\n",
       "0                                     2                        0   \n",
       "1                                     9                        0   \n",
       "2                                     5                        0   \n",
       "3                                     7                        0   \n",
       "4                                    13                        0   \n",
       "...                                 ...                      ...   \n",
       "149987                                4                        0   \n",
       "149988                                4                        0   \n",
       "149989                               18                        0   \n",
       "149990                                4                        0   \n",
       "149991                                8                        0   \n",
       "\n",
       "        NumberRealEstateLoansOrLines  NumberOfTime60-89DaysPastDueNotWorse  \\\n",
       "0                                  0                                     0   \n",
       "1                                  4                                     0   \n",
       "2                                  0                                     0   \n",
       "3                                  2                                     0   \n",
       "4                                  2                                     0   \n",
       "...                              ...                                   ...   \n",
       "149987                             1                                     0   \n",
       "149988                             1                                     0   \n",
       "149989                             1                                     0   \n",
       "149990                             0                                     0   \n",
       "149991                             2                                     0   \n",
       "\n",
       "        NumberOfDependents  \n",
       "0                      NaN  \n",
       "1                      2.0  \n",
       "2                      0.0  \n",
       "3                      2.0  \n",
       "4                      2.0  \n",
       "...                    ...  \n",
       "149987                 0.0  \n",
       "149988                 2.0  \n",
       "149989                 0.0  \n",
       "149990                 0.0  \n",
       "149991                 0.0  \n",
       "\n",
       "[149992 rows x 11 columns]"
      ]
     },
     "execution_count": 1,
     "metadata": {},
     "output_type": "execute_result"
    }
   ],
   "source": [
    "import pandas as pd\n",
    "import numpy as np\n",
    "from scipy import stats\n",
    "\n",
    "\n",
    "data = pd.read_csv('C:/Users/Pyter/DA/BaiTap/Credit_Scoring.csv', encoding = \"ISO-8859-1\")\n",
    "del data['Unnamed: 0']\n",
    "data"
   ]
  },
  {
   "cell_type": "code",
   "execution_count": 2,
   "id": "6f434e81",
   "metadata": {},
   "outputs": [],
   "source": [
    "data.dropna(subset=['MonthlyIncome'],inplace=True)"
   ]
  },
  {
   "cell_type": "markdown",
   "id": "9836b987",
   "metadata": {},
   "source": [
    "# Bộ dữ liệu đánh giá mức độ tín nhiệm của khách hàng được lưu trong file Credit_Scoring.csv đã được giới thiệu từ các buổi trước. Với mức ý nghĩa 5% hãy thực hiện các kiểm định sau:\n",
    "\n",
    "- Giữa độ tuổi (age) và thu nhập trung bình theo tháng (MonthlyIncome) có tương quan với nhau hay không?\n",
    "- Giữa số lượng khoản vay (NumberOfOpenCreditLinesAndLoans) và độ tuổi có tương quan với nhau không\n",
    "- Giữa (số lượng người phụ thuộc) NumberOfDependents và thu nhập theo tháng (MonthlyIncome) có tương quan với nhau hay không\n",
    "- Mã hóa lại thuộc tính MonthlyIncome thành thuộc tính MonthlyIncome_order theo các khoảng tứ phân vị, giữa thuộc tính mới này và tình trạng nợ xấu trong 2 năm trở lại đây (SeriousDlqin2yrs) có liên quan tới nhau không\n",
    "- Giữa thuộc tính MonthlyIncome_order với thuộc tính tỉ lệ số dư tài khoản (RevolvingUtilizationOfUnsecuredLines) có mối liên hệ với nhau không"
   ]
  },
  {
   "cell_type": "code",
   "execution_count": 3,
   "id": "bb279182",
   "metadata": {},
   "outputs": [
    {
     "name": "stdout",
     "output_type": "stream",
     "text": [
      "<class 'pandas.core.frame.DataFrame'>\n",
      "Int64Index: 120262 entries, 1 to 149991\n",
      "Data columns (total 11 columns):\n",
      " #   Column                                Non-Null Count   Dtype  \n",
      "---  ------                                --------------   -----  \n",
      " 0   SeriousDlqin2yrs                      120262 non-null  int64  \n",
      " 1   RevolvingUtilizationOfUnsecuredLines  120262 non-null  float64\n",
      " 2   age                                   120262 non-null  int64  \n",
      " 3   NumberOfTime30-59DaysPastDueNotWorse  120262 non-null  int64  \n",
      " 4   DebtRatio                             120262 non-null  float64\n",
      " 5   MonthlyIncome                         120262 non-null  float64\n",
      " 6   NumberOfOpenCreditLinesAndLoans       120262 non-null  int64  \n",
      " 7   NumberOfTimes90DaysLate               120262 non-null  int64  \n",
      " 8   NumberRealEstateLoansOrLines          120262 non-null  int64  \n",
      " 9   NumberOfTime60-89DaysPastDueNotWorse  120262 non-null  int64  \n",
      " 10  NumberOfDependents                    120262 non-null  float64\n",
      "dtypes: float64(4), int64(7)\n",
      "memory usage: 11.0 MB\n"
     ]
    }
   ],
   "source": [
    "data.info()"
   ]
  },
  {
   "cell_type": "markdown",
   "id": "206d9a7d",
   "metadata": {},
   "source": [
    "Giữa độ tuổi (age) và thu nhập trung bình theo tháng (MonthlyIncome) có tương quan với nhau hay không?"
   ]
  },
  {
   "cell_type": "code",
   "execution_count": 4,
   "id": "dc2206ee",
   "metadata": {},
   "outputs": [
    {
     "name": "stdout",
     "output_type": "stream",
     "text": [
      "r:  0.03772151543470241 , pvalue:  3.964657234287844e-39\n"
     ]
    }
   ],
   "source": [
    "r, pvalue = stats.pearsonr(data['age'],data['MonthlyIncome'])\n",
    "print (\"r: \", r, \", pvalue: \", pvalue)"
   ]
  },
  {
   "cell_type": "markdown",
   "id": "8e5c83b4",
   "metadata": {},
   "source": [
    "Kết luận: do r:  0.03772151543470241 < 0.05 mức ý nghĩa 5% vậy nên không có tương quan với nhau"
   ]
  },
  {
   "cell_type": "markdown",
   "id": "7dc7b6b7",
   "metadata": {},
   "source": [
    "- Giữa số lượng khoản vay (NumberOfOpenCreditLinesAndLoans) và độ tuổi có tương quan với nhau không"
   ]
  },
  {
   "cell_type": "code",
   "execution_count": 5,
   "id": "5e8bd7a7",
   "metadata": {},
   "outputs": [
    {
     "name": "stdout",
     "output_type": "stream",
     "text": [
      "r:  0.18711295715964157 , pvalue:  0.0\n"
     ]
    }
   ],
   "source": [
    "r, pvalue = stats.pearsonr(data['age'],data['NumberOfOpenCreditLinesAndLoans'])\n",
    "print (\"r: \", r, \", pvalue: \", pvalue)"
   ]
  },
  {
   "cell_type": "markdown",
   "id": "fcb3ab83",
   "metadata": {},
   "source": [
    "Kết luận: do r: 0.18711295715964157 > 0.05 mức ý nghĩa 5% vậy nên có tương quan với nhau"
   ]
  },
  {
   "cell_type": "markdown",
   "id": "37942f0b",
   "metadata": {},
   "source": [
    "- Giữa (số lượng người phụ thuộc) NumberOfDependents và thu nhập theo tháng (MonthlyIncome) có tương quan với nhau hay không"
   ]
  },
  {
   "cell_type": "code",
   "execution_count": 6,
   "id": "a7d30106",
   "metadata": {},
   "outputs": [
    {
     "name": "stdout",
     "output_type": "stream",
     "text": [
      "r:  0.06267144549170628 , pvalue:  6.211808987902723e-105\n"
     ]
    }
   ],
   "source": [
    "r, pvalue = stats.pearsonr(data['NumberOfDependents'],data['MonthlyIncome'])\n",
    "print (\"r: \", r, \", pvalue: \", pvalue)"
   ]
  },
  {
   "cell_type": "markdown",
   "id": "fa327600",
   "metadata": {},
   "source": [
    "Kết luận: có một tương quan rất yếu giữa hai biến (r = 0.062), và giá trị p-value rất nhỏ (p-value: 6.211808987902723e-105), cho thấy rằng tương quan này có ý nghĩa thống kê."
   ]
  },
  {
   "cell_type": "markdown",
   "id": "167f58ee",
   "metadata": {},
   "source": [
    "- Mã hóa lại thuộc tính MonthlyIncome thành thuộc tính MonthlyIncome_order theo các khoảng tứ phân vị, giữa thuộc tính mới này và tình trạng nợ xấu trong 2 năm trở lại đây (SeriousDlqin2yrs) có liên quan tới nhau không"
   ]
  },
  {
   "cell_type": "code",
   "execution_count": 7,
   "id": "fb3c8adb",
   "metadata": {},
   "outputs": [],
   "source": [
    "data['MonthlyIncome_order'] = pd.qcut(data['MonthlyIncome'], q=4, labels=False)"
   ]
  },
  {
   "cell_type": "code",
   "execution_count": 8,
   "id": "41229f81",
   "metadata": {},
   "outputs": [
    {
     "name": "stdout",
     "output_type": "stream",
     "text": [
      "R: -0.068479797499568\n",
      "p-value: 5.967111916861543e-125\n"
     ]
    }
   ],
   "source": [
    "from scipy.stats import spearmanr\n",
    "\n",
    "corr, p_value = spearmanr(data['MonthlyIncome_order'], data['SeriousDlqin2yrs'])\n",
    "print(\"R:\", corr)\n",
    "print(\"p-value:\", p_value)\n"
   ]
  },
  {
   "cell_type": "markdown",
   "id": "52065ba4",
   "metadata": {},
   "source": [
    "Kết quả cho thấy r = -0.068 và p-value = 5.967111916861543e-125. Vì p-value rất nhỏ (nhỏ hơn mức ý nghĩa 0.05) nên chúng ta có thể bác bỏ giả thuyết H0 rằng không có tương quan giữa thuộc tính MonthlyIncome_order và tình trạng nợ xấu trong 2 năm trở lại đây (SeriousDlqin2yrs). Do đó, chúng ta có thể kết luận rằng hai thuộc tính này có mối tương quan âm nhưng không mạnh."
   ]
  },
  {
   "cell_type": "markdown",
   "id": "14d6c7bb",
   "metadata": {},
   "source": [
    "- Giữa thuộc tính MonthlyIncome_order với thuộc tính tỉ lệ số dư tài khoản (RevolvingUtilizationOfUnsecuredLines) có mối liên hệ với nhau không"
   ]
  },
  {
   "cell_type": "code",
   "execution_count": 9,
   "id": "d411005d",
   "metadata": {},
   "outputs": [
    {
     "name": "stdout",
     "output_type": "stream",
     "text": [
      "R: -0.07932885067264854\n",
      "p-value: 4.024057777306893e-167\n"
     ]
    }
   ],
   "source": [
    "corr, p_value = spearmanr(data['MonthlyIncome_order'], data['RevolvingUtilizationOfUnsecuredLines'])\n",
    "print(\"R:\", corr)\n",
    "print(\"p-value:\", p_value)"
   ]
  },
  {
   "cell_type": "markdown",
   "id": "bd0dbbf5",
   "metadata": {},
   "source": [
    "Với R: -0.07932885067264854 và p-value: 4.024057777306893e-167, ta có thể kết luận rằng tồn tại mối quan hệ tương đối yếu giữa thuộc tính MonthlyIncome_order và thuộc tính RevolvingUtilizationOfUnsecuredLines,"
   ]
  }
 ],
 "metadata": {
  "kernelspec": {
   "display_name": "Python 3 (ipykernel)",
   "language": "python",
   "name": "python3"
  },
  "language_info": {
   "codemirror_mode": {
    "name": "ipython",
    "version": 3
   },
   "file_extension": ".py",
   "mimetype": "text/x-python",
   "name": "python",
   "nbconvert_exporter": "python",
   "pygments_lexer": "ipython3",
   "version": "3.9.12"
  }
 },
 "nbformat": 4,
 "nbformat_minor": 5
}
